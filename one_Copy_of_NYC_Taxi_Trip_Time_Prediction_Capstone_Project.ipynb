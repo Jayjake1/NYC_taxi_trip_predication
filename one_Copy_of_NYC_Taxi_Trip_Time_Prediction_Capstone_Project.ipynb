{
  "nbformat": 4,
  "nbformat_minor": 0,
  "metadata": {
    "kernelspec": {
      "display_name": "Python 3",
      "language": "python",
      "name": "python3"
    },
    "language_info": {
      "codemirror_mode": {
        "name": "ipython",
        "version": 3
      },
      "file_extension": ".py",
      "mimetype": "text/x-python",
      "name": "python",
      "nbconvert_exporter": "python",
      "pygments_lexer": "ipython3",
      "version": "3.6.6"
    },
    "colab": {
      "name": "one Copy of NYC Taxi Trip Time Prediction - Capstone Project.ipynb",
      "provenance": [],
      "collapsed_sections": [],
      "include_colab_link": true
    }
  },
  "cells": [
    {
      "cell_type": "markdown",
      "metadata": {
        "id": "view-in-github",
        "colab_type": "text"
      },
      "source": [
        "<a href=\"https://colab.research.google.com/github/Jayjake1/NYC_taxi_trip_predication/blob/main/one_Copy_of_NYC_Taxi_Trip_Time_Prediction_Capstone_Project.ipynb\" target=\"_parent\"><img src=\"https://colab.research.google.com/assets/colab-badge.svg\" alt=\"Open In Colab\"/></a>"
      ]
    },
    {
      "cell_type": "markdown",
      "metadata": {
        "id": "tOGC-qoyhJeX"
      },
      "source": [
        "# <b><u> Project Title : Taxi trip time Prediction : Predicting total ride duration of taxi trips in New York City</u></b>"
      ]
    },
    {
      "cell_type": "markdown",
      "metadata": {
        "id": "Y06xIdG26kRF"
      },
      "source": [
        "## <b> Problem Description </b>\n",
        "\n",
        "### Your task is to build a model that predicts the total ride duration of taxi trips in New York City. Your primary dataset is one released by the NYC Taxi and Limousine Commission, which includes pickup time, geo-coordinates, number of passengers, and several other variables."
      ]
    },
    {
      "cell_type": "markdown",
      "metadata": {
        "id": "WWeU1f9bwqQq"
      },
      "source": [
        "## <b> Data Description </b>\n",
        "\n",
        "### The dataset is based on the 2016 NYC Yellow Cab trip record data made available in Big Query on Google Cloud Platform. The data was originally published by the NYC Taxi and Limousine Commission (TLC). The data was sampled and cleaned for the purposes of this project. Based on individual trip attributes, you should predict the duration of each trip in the test set.\n",
        "\n",
        "### <b>NYC Taxi Data.csv</b> - the training set (contains 1458644 trip records)\n",
        "\n",
        "\n",
        "### Data fields\n",
        "* #### id - a unique identifier for each trip\n",
        "* #### vendor_id - a code indicating the provider associated with the trip record\n",
        "* #### pickup_datetime - date and time when the meter was engaged\n",
        "* #### dropoff_datetime - date and time when the meter was disengaged\n",
        "* #### passenger_count - the number of passengers in the vehicle (driver entered value)\n",
        "* #### pickup_longitude - the longitude where the meter was engaged\n",
        "* #### pickup_latitude - the latitude where the meter was engaged\n",
        "* #### dropoff_longitude - the longitude where the meter was disengaged\n",
        "* #### dropoff_latitude - the latitude where the meter was disengaged\n",
        "* #### store_and_fwd_flag - This flag indicates whether the trip record was held in vehicle memory before sending to the vendor because the vehicle did not have a connection to the server - Y=store and forward; N=not a store and forward trip\n",
        "* #### trip_duration - duration of the trip in seconds"
      ]
    },
    {
      "cell_type": "code",
      "metadata": {
        "id": "dByMsuzT8Tnw"
      },
      "source": [
        "import numpy as np\n",
        "import pandas as pd\n",
        "import matplotlib.pyplot as plt\n",
        "import seaborn as sns"
      ],
      "execution_count": 108,
      "outputs": []
    },
    {
      "cell_type": "code",
      "metadata": {
        "id": "QFqMTYvSsZJb"
      },
      "source": [
        "from google.colab import drive"
      ],
      "execution_count": 109,
      "outputs": []
    },
    {
      "cell_type": "code",
      "metadata": {
        "colab": {
          "base_uri": "https://localhost:8080/"
        },
        "id": "5O0MvwdtsqmU",
        "outputId": "585f3a11-a083-4014-fcda-76f2254d1f47"
      },
      "source": [
        "from google.colab import drive\n",
        "drive.mount('/content/drive')"
      ],
      "execution_count": 110,
      "outputs": [
        {
          "output_type": "stream",
          "name": "stdout",
          "text": [
            "Drive already mounted at /content/drive; to attempt to forcibly remount, call drive.mount(\"/content/drive\", force_remount=True).\n"
          ]
        }
      ]
    },
    {
      "cell_type": "code",
      "metadata": {
        "id": "SnD6hBWjssf1"
      },
      "source": [
        "path = \"/content/drive/MyDrive/Almabetter/Copy of Copy of NYC Taxi Data.csv\"\n",
        "df = pd.read_csv(path,index_col = 'id')  # importing data"
      ],
      "execution_count": 111,
      "outputs": []
    },
    {
      "cell_type": "code",
      "metadata": {
        "colab": {
          "base_uri": "https://localhost:8080/",
          "height": 344
        },
        "id": "9PytdI9ntdFc",
        "outputId": "2b65c043-33dc-4667-b172-80bb2b96c753"
      },
      "source": [
        "df.head()"
      ],
      "execution_count": 112,
      "outputs": [
        {
          "output_type": "execute_result",
          "data": {
            "text/html": [
              "<div>\n",
              "<style scoped>\n",
              "    .dataframe tbody tr th:only-of-type {\n",
              "        vertical-align: middle;\n",
              "    }\n",
              "\n",
              "    .dataframe tbody tr th {\n",
              "        vertical-align: top;\n",
              "    }\n",
              "\n",
              "    .dataframe thead th {\n",
              "        text-align: right;\n",
              "    }\n",
              "</style>\n",
              "<table border=\"1\" class=\"dataframe\">\n",
              "  <thead>\n",
              "    <tr style=\"text-align: right;\">\n",
              "      <th></th>\n",
              "      <th>vendor_id</th>\n",
              "      <th>pickup_datetime</th>\n",
              "      <th>dropoff_datetime</th>\n",
              "      <th>passenger_count</th>\n",
              "      <th>pickup_longitude</th>\n",
              "      <th>pickup_latitude</th>\n",
              "      <th>dropoff_longitude</th>\n",
              "      <th>dropoff_latitude</th>\n",
              "      <th>store_and_fwd_flag</th>\n",
              "      <th>trip_duration</th>\n",
              "    </tr>\n",
              "    <tr>\n",
              "      <th>id</th>\n",
              "      <th></th>\n",
              "      <th></th>\n",
              "      <th></th>\n",
              "      <th></th>\n",
              "      <th></th>\n",
              "      <th></th>\n",
              "      <th></th>\n",
              "      <th></th>\n",
              "      <th></th>\n",
              "      <th></th>\n",
              "    </tr>\n",
              "  </thead>\n",
              "  <tbody>\n",
              "    <tr>\n",
              "      <th>id2875421</th>\n",
              "      <td>2</td>\n",
              "      <td>2016-03-14 17:24:55</td>\n",
              "      <td>2016-03-14 17:32:30</td>\n",
              "      <td>1</td>\n",
              "      <td>-73.982155</td>\n",
              "      <td>40.767937</td>\n",
              "      <td>-73.964630</td>\n",
              "      <td>40.765602</td>\n",
              "      <td>N</td>\n",
              "      <td>455</td>\n",
              "    </tr>\n",
              "    <tr>\n",
              "      <th>id2377394</th>\n",
              "      <td>1</td>\n",
              "      <td>2016-06-12 00:43:35</td>\n",
              "      <td>2016-06-12 00:54:38</td>\n",
              "      <td>1</td>\n",
              "      <td>-73.980415</td>\n",
              "      <td>40.738564</td>\n",
              "      <td>-73.999481</td>\n",
              "      <td>40.731152</td>\n",
              "      <td>N</td>\n",
              "      <td>663</td>\n",
              "    </tr>\n",
              "    <tr>\n",
              "      <th>id3858529</th>\n",
              "      <td>2</td>\n",
              "      <td>2016-01-19 11:35:24</td>\n",
              "      <td>2016-01-19 12:10:48</td>\n",
              "      <td>1</td>\n",
              "      <td>-73.979027</td>\n",
              "      <td>40.763939</td>\n",
              "      <td>-74.005333</td>\n",
              "      <td>40.710087</td>\n",
              "      <td>N</td>\n",
              "      <td>2124</td>\n",
              "    </tr>\n",
              "    <tr>\n",
              "      <th>id3504673</th>\n",
              "      <td>2</td>\n",
              "      <td>2016-04-06 19:32:31</td>\n",
              "      <td>2016-04-06 19:39:40</td>\n",
              "      <td>1</td>\n",
              "      <td>-74.010040</td>\n",
              "      <td>40.719971</td>\n",
              "      <td>-74.012268</td>\n",
              "      <td>40.706718</td>\n",
              "      <td>N</td>\n",
              "      <td>429</td>\n",
              "    </tr>\n",
              "    <tr>\n",
              "      <th>id2181028</th>\n",
              "      <td>2</td>\n",
              "      <td>2016-03-26 13:30:55</td>\n",
              "      <td>2016-03-26 13:38:10</td>\n",
              "      <td>1</td>\n",
              "      <td>-73.973053</td>\n",
              "      <td>40.793209</td>\n",
              "      <td>-73.972923</td>\n",
              "      <td>40.782520</td>\n",
              "      <td>N</td>\n",
              "      <td>435</td>\n",
              "    </tr>\n",
              "  </tbody>\n",
              "</table>\n",
              "</div>"
            ],
            "text/plain": [
              "           vendor_id      pickup_datetime  ... store_and_fwd_flag  trip_duration\n",
              "id                                         ...                                  \n",
              "id2875421          2  2016-03-14 17:24:55  ...                  N            455\n",
              "id2377394          1  2016-06-12 00:43:35  ...                  N            663\n",
              "id3858529          2  2016-01-19 11:35:24  ...                  N           2124\n",
              "id3504673          2  2016-04-06 19:32:31  ...                  N            429\n",
              "id2181028          2  2016-03-26 13:30:55  ...                  N            435\n",
              "\n",
              "[5 rows x 10 columns]"
            ]
          },
          "metadata": {},
          "execution_count": 112
        }
      ]
    },
    {
      "cell_type": "code",
      "metadata": {
        "colab": {
          "base_uri": "https://localhost:8080/",
          "height": 344
        },
        "id": "w34SiNYatWyv",
        "outputId": "bb368ae3-d08f-419c-eba5-e1952b9d2a47"
      },
      "source": [
        "df.tail()"
      ],
      "execution_count": 113,
      "outputs": [
        {
          "output_type": "execute_result",
          "data": {
            "text/html": [
              "<div>\n",
              "<style scoped>\n",
              "    .dataframe tbody tr th:only-of-type {\n",
              "        vertical-align: middle;\n",
              "    }\n",
              "\n",
              "    .dataframe tbody tr th {\n",
              "        vertical-align: top;\n",
              "    }\n",
              "\n",
              "    .dataframe thead th {\n",
              "        text-align: right;\n",
              "    }\n",
              "</style>\n",
              "<table border=\"1\" class=\"dataframe\">\n",
              "  <thead>\n",
              "    <tr style=\"text-align: right;\">\n",
              "      <th></th>\n",
              "      <th>vendor_id</th>\n",
              "      <th>pickup_datetime</th>\n",
              "      <th>dropoff_datetime</th>\n",
              "      <th>passenger_count</th>\n",
              "      <th>pickup_longitude</th>\n",
              "      <th>pickup_latitude</th>\n",
              "      <th>dropoff_longitude</th>\n",
              "      <th>dropoff_latitude</th>\n",
              "      <th>store_and_fwd_flag</th>\n",
              "      <th>trip_duration</th>\n",
              "    </tr>\n",
              "    <tr>\n",
              "      <th>id</th>\n",
              "      <th></th>\n",
              "      <th></th>\n",
              "      <th></th>\n",
              "      <th></th>\n",
              "      <th></th>\n",
              "      <th></th>\n",
              "      <th></th>\n",
              "      <th></th>\n",
              "      <th></th>\n",
              "      <th></th>\n",
              "    </tr>\n",
              "  </thead>\n",
              "  <tbody>\n",
              "    <tr>\n",
              "      <th>id2376096</th>\n",
              "      <td>2</td>\n",
              "      <td>2016-04-08 13:31:04</td>\n",
              "      <td>2016-04-08 13:44:02</td>\n",
              "      <td>4</td>\n",
              "      <td>-73.982201</td>\n",
              "      <td>40.745522</td>\n",
              "      <td>-73.994911</td>\n",
              "      <td>40.740170</td>\n",
              "      <td>N</td>\n",
              "      <td>778</td>\n",
              "    </tr>\n",
              "    <tr>\n",
              "      <th>id1049543</th>\n",
              "      <td>1</td>\n",
              "      <td>2016-01-10 07:35:15</td>\n",
              "      <td>2016-01-10 07:46:10</td>\n",
              "      <td>1</td>\n",
              "      <td>-74.000946</td>\n",
              "      <td>40.747379</td>\n",
              "      <td>-73.970184</td>\n",
              "      <td>40.796547</td>\n",
              "      <td>N</td>\n",
              "      <td>655</td>\n",
              "    </tr>\n",
              "    <tr>\n",
              "      <th>id2304944</th>\n",
              "      <td>2</td>\n",
              "      <td>2016-04-22 06:57:41</td>\n",
              "      <td>2016-04-22 07:10:25</td>\n",
              "      <td>1</td>\n",
              "      <td>-73.959129</td>\n",
              "      <td>40.768799</td>\n",
              "      <td>-74.004433</td>\n",
              "      <td>40.707371</td>\n",
              "      <td>N</td>\n",
              "      <td>764</td>\n",
              "    </tr>\n",
              "    <tr>\n",
              "      <th>id2714485</th>\n",
              "      <td>1</td>\n",
              "      <td>2016-01-05 15:56:26</td>\n",
              "      <td>2016-01-05 16:02:39</td>\n",
              "      <td>1</td>\n",
              "      <td>-73.982079</td>\n",
              "      <td>40.749062</td>\n",
              "      <td>-73.974632</td>\n",
              "      <td>40.757107</td>\n",
              "      <td>N</td>\n",
              "      <td>373</td>\n",
              "    </tr>\n",
              "    <tr>\n",
              "      <th>id1209952</th>\n",
              "      <td>1</td>\n",
              "      <td>2016-04-05 14:44:25</td>\n",
              "      <td>2016-04-05 14:47:43</td>\n",
              "      <td>1</td>\n",
              "      <td>-73.979538</td>\n",
              "      <td>40.781750</td>\n",
              "      <td>-73.972809</td>\n",
              "      <td>40.790585</td>\n",
              "      <td>N</td>\n",
              "      <td>198</td>\n",
              "    </tr>\n",
              "  </tbody>\n",
              "</table>\n",
              "</div>"
            ],
            "text/plain": [
              "           vendor_id      pickup_datetime  ... store_and_fwd_flag  trip_duration\n",
              "id                                         ...                                  \n",
              "id2376096          2  2016-04-08 13:31:04  ...                  N            778\n",
              "id1049543          1  2016-01-10 07:35:15  ...                  N            655\n",
              "id2304944          2  2016-04-22 06:57:41  ...                  N            764\n",
              "id2714485          1  2016-01-05 15:56:26  ...                  N            373\n",
              "id1209952          1  2016-04-05 14:44:25  ...                  N            198\n",
              "\n",
              "[5 rows x 10 columns]"
            ]
          },
          "metadata": {},
          "execution_count": 113
        }
      ]
    },
    {
      "cell_type": "code",
      "metadata": {
        "colab": {
          "base_uri": "https://localhost:8080/"
        },
        "id": "85MYmi7Fh7pV",
        "outputId": "c70b8a0c-5dcc-4c1f-be1f-acad62480a4d"
      },
      "source": [
        "df.isnull().sum()"
      ],
      "execution_count": 114,
      "outputs": [
        {
          "output_type": "execute_result",
          "data": {
            "text/plain": [
              "vendor_id             0\n",
              "pickup_datetime       0\n",
              "dropoff_datetime      0\n",
              "passenger_count       0\n",
              "pickup_longitude      0\n",
              "pickup_latitude       0\n",
              "dropoff_longitude     0\n",
              "dropoff_latitude      0\n",
              "store_and_fwd_flag    0\n",
              "trip_duration         0\n",
              "dtype: int64"
            ]
          },
          "metadata": {},
          "execution_count": 114
        }
      ]
    },
    {
      "cell_type": "code",
      "metadata": {
        "colab": {
          "base_uri": "https://localhost:8080/"
        },
        "id": "xXVlQw9KtnHw",
        "outputId": "15c845da-146c-4da5-a956-81092c38440d"
      },
      "source": [
        "df.info()"
      ],
      "execution_count": 115,
      "outputs": [
        {
          "output_type": "stream",
          "name": "stdout",
          "text": [
            "<class 'pandas.core.frame.DataFrame'>\n",
            "Index: 1458644 entries, id2875421 to id1209952\n",
            "Data columns (total 10 columns):\n",
            " #   Column              Non-Null Count    Dtype  \n",
            "---  ------              --------------    -----  \n",
            " 0   vendor_id           1458644 non-null  int64  \n",
            " 1   pickup_datetime     1458644 non-null  object \n",
            " 2   dropoff_datetime    1458644 non-null  object \n",
            " 3   passenger_count     1458644 non-null  int64  \n",
            " 4   pickup_longitude    1458644 non-null  float64\n",
            " 5   pickup_latitude     1458644 non-null  float64\n",
            " 6   dropoff_longitude   1458644 non-null  float64\n",
            " 7   dropoff_latitude    1458644 non-null  float64\n",
            " 8   store_and_fwd_flag  1458644 non-null  object \n",
            " 9   trip_duration       1458644 non-null  int64  \n",
            "dtypes: float64(4), int64(3), object(3)\n",
            "memory usage: 122.4+ MB\n"
          ]
        }
      ]
    },
    {
      "cell_type": "code",
      "metadata": {
        "colab": {
          "base_uri": "https://localhost:8080/",
          "height": 300
        },
        "id": "akiMlz9ItqIr",
        "outputId": "902c3523-256d-443c-dcdc-fa77d5866e14"
      },
      "source": [
        "df.describe()"
      ],
      "execution_count": 116,
      "outputs": [
        {
          "output_type": "execute_result",
          "data": {
            "text/html": [
              "<div>\n",
              "<style scoped>\n",
              "    .dataframe tbody tr th:only-of-type {\n",
              "        vertical-align: middle;\n",
              "    }\n",
              "\n",
              "    .dataframe tbody tr th {\n",
              "        vertical-align: top;\n",
              "    }\n",
              "\n",
              "    .dataframe thead th {\n",
              "        text-align: right;\n",
              "    }\n",
              "</style>\n",
              "<table border=\"1\" class=\"dataframe\">\n",
              "  <thead>\n",
              "    <tr style=\"text-align: right;\">\n",
              "      <th></th>\n",
              "      <th>vendor_id</th>\n",
              "      <th>passenger_count</th>\n",
              "      <th>pickup_longitude</th>\n",
              "      <th>pickup_latitude</th>\n",
              "      <th>dropoff_longitude</th>\n",
              "      <th>dropoff_latitude</th>\n",
              "      <th>trip_duration</th>\n",
              "    </tr>\n",
              "  </thead>\n",
              "  <tbody>\n",
              "    <tr>\n",
              "      <th>count</th>\n",
              "      <td>1.458644e+06</td>\n",
              "      <td>1.458644e+06</td>\n",
              "      <td>1.458644e+06</td>\n",
              "      <td>1.458644e+06</td>\n",
              "      <td>1.458644e+06</td>\n",
              "      <td>1.458644e+06</td>\n",
              "      <td>1.458644e+06</td>\n",
              "    </tr>\n",
              "    <tr>\n",
              "      <th>mean</th>\n",
              "      <td>1.534950e+00</td>\n",
              "      <td>1.664530e+00</td>\n",
              "      <td>-7.397349e+01</td>\n",
              "      <td>4.075092e+01</td>\n",
              "      <td>-7.397342e+01</td>\n",
              "      <td>4.075180e+01</td>\n",
              "      <td>9.594923e+02</td>\n",
              "    </tr>\n",
              "    <tr>\n",
              "      <th>std</th>\n",
              "      <td>4.987772e-01</td>\n",
              "      <td>1.314242e+00</td>\n",
              "      <td>7.090186e-02</td>\n",
              "      <td>3.288119e-02</td>\n",
              "      <td>7.064327e-02</td>\n",
              "      <td>3.589056e-02</td>\n",
              "      <td>5.237432e+03</td>\n",
              "    </tr>\n",
              "    <tr>\n",
              "      <th>min</th>\n",
              "      <td>1.000000e+00</td>\n",
              "      <td>0.000000e+00</td>\n",
              "      <td>-1.219333e+02</td>\n",
              "      <td>3.435970e+01</td>\n",
              "      <td>-1.219333e+02</td>\n",
              "      <td>3.218114e+01</td>\n",
              "      <td>1.000000e+00</td>\n",
              "    </tr>\n",
              "    <tr>\n",
              "      <th>25%</th>\n",
              "      <td>1.000000e+00</td>\n",
              "      <td>1.000000e+00</td>\n",
              "      <td>-7.399187e+01</td>\n",
              "      <td>4.073735e+01</td>\n",
              "      <td>-7.399133e+01</td>\n",
              "      <td>4.073588e+01</td>\n",
              "      <td>3.970000e+02</td>\n",
              "    </tr>\n",
              "    <tr>\n",
              "      <th>50%</th>\n",
              "      <td>2.000000e+00</td>\n",
              "      <td>1.000000e+00</td>\n",
              "      <td>-7.398174e+01</td>\n",
              "      <td>4.075410e+01</td>\n",
              "      <td>-7.397975e+01</td>\n",
              "      <td>4.075452e+01</td>\n",
              "      <td>6.620000e+02</td>\n",
              "    </tr>\n",
              "    <tr>\n",
              "      <th>75%</th>\n",
              "      <td>2.000000e+00</td>\n",
              "      <td>2.000000e+00</td>\n",
              "      <td>-7.396733e+01</td>\n",
              "      <td>4.076836e+01</td>\n",
              "      <td>-7.396301e+01</td>\n",
              "      <td>4.076981e+01</td>\n",
              "      <td>1.075000e+03</td>\n",
              "    </tr>\n",
              "    <tr>\n",
              "      <th>max</th>\n",
              "      <td>2.000000e+00</td>\n",
              "      <td>9.000000e+00</td>\n",
              "      <td>-6.133553e+01</td>\n",
              "      <td>5.188108e+01</td>\n",
              "      <td>-6.133553e+01</td>\n",
              "      <td>4.392103e+01</td>\n",
              "      <td>3.526282e+06</td>\n",
              "    </tr>\n",
              "  </tbody>\n",
              "</table>\n",
              "</div>"
            ],
            "text/plain": [
              "          vendor_id  passenger_count  ...  dropoff_latitude  trip_duration\n",
              "count  1.458644e+06     1.458644e+06  ...      1.458644e+06   1.458644e+06\n",
              "mean   1.534950e+00     1.664530e+00  ...      4.075180e+01   9.594923e+02\n",
              "std    4.987772e-01     1.314242e+00  ...      3.589056e-02   5.237432e+03\n",
              "min    1.000000e+00     0.000000e+00  ...      3.218114e+01   1.000000e+00\n",
              "25%    1.000000e+00     1.000000e+00  ...      4.073588e+01   3.970000e+02\n",
              "50%    2.000000e+00     1.000000e+00  ...      4.075452e+01   6.620000e+02\n",
              "75%    2.000000e+00     2.000000e+00  ...      4.076981e+01   1.075000e+03\n",
              "max    2.000000e+00     9.000000e+00  ...      4.392103e+01   3.526282e+06\n",
              "\n",
              "[8 rows x 7 columns]"
            ]
          },
          "metadata": {},
          "execution_count": 116
        }
      ]
    },
    {
      "cell_type": "code",
      "metadata": {
        "colab": {
          "base_uri": "https://localhost:8080/"
        },
        "id": "Vto1qdy0t0yB",
        "outputId": "afb9ea19-fc7c-4e94-ded8-7d8734ec0709"
      },
      "source": [
        "df.columns"
      ],
      "execution_count": 117,
      "outputs": [
        {
          "output_type": "execute_result",
          "data": {
            "text/plain": [
              "Index(['vendor_id', 'pickup_datetime', 'dropoff_datetime', 'passenger_count',\n",
              "       'pickup_longitude', 'pickup_latitude', 'dropoff_longitude',\n",
              "       'dropoff_latitude', 'store_and_fwd_flag', 'trip_duration'],\n",
              "      dtype='object')"
            ]
          },
          "metadata": {},
          "execution_count": 117
        }
      ]
    },
    {
      "cell_type": "code",
      "metadata": {
        "id": "T-SQixM1aoLX",
        "colab": {
          "base_uri": "https://localhost:8080/"
        },
        "outputId": "9bb79f63-5814-4037-e0a8-c6bb9a966b1d"
      },
      "source": [
        "df.shape"
      ],
      "execution_count": 118,
      "outputs": [
        {
          "output_type": "execute_result",
          "data": {
            "text/plain": [
              "(1458644, 10)"
            ]
          },
          "metadata": {},
          "execution_count": 118
        }
      ]
    },
    {
      "cell_type": "markdown",
      "metadata": {
        "id": "F08NMdAFu4sT"
      },
      "source": [
        "# EDA and Data Transformation"
      ]
    },
    {
      "cell_type": "code",
      "metadata": {
        "id": "Dsgv4pz6umGr"
      },
      "source": [
        "df.pickup_datetime = pd.to_datetime(df.pickup_datetime) # converting object into datetime format\n",
        "df.dropoff_datetime = df.dropoff_datetime.apply(pd.to_datetime) # do same as above but takes more time"
      ],
      "execution_count": 119,
      "outputs": []
    },
    {
      "cell_type": "code",
      "metadata": {
        "colab": {
          "base_uri": "https://localhost:8080/"
        },
        "id": "cYTKrDKXvUnF",
        "outputId": "f55d5430-a75e-41cc-846d-f56193870d1c"
      },
      "source": [
        "df.info()"
      ],
      "execution_count": 120,
      "outputs": [
        {
          "output_type": "stream",
          "name": "stdout",
          "text": [
            "<class 'pandas.core.frame.DataFrame'>\n",
            "Index: 1458644 entries, id2875421 to id1209952\n",
            "Data columns (total 10 columns):\n",
            " #   Column              Non-Null Count    Dtype         \n",
            "---  ------              --------------    -----         \n",
            " 0   vendor_id           1458644 non-null  int64         \n",
            " 1   pickup_datetime     1458644 non-null  datetime64[ns]\n",
            " 2   dropoff_datetime    1458644 non-null  datetime64[ns]\n",
            " 3   passenger_count     1458644 non-null  int64         \n",
            " 4   pickup_longitude    1458644 non-null  float64       \n",
            " 5   pickup_latitude     1458644 non-null  float64       \n",
            " 6   dropoff_longitude   1458644 non-null  float64       \n",
            " 7   dropoff_latitude    1458644 non-null  float64       \n",
            " 8   store_and_fwd_flag  1458644 non-null  object        \n",
            " 9   trip_duration       1458644 non-null  int64         \n",
            "dtypes: datetime64[ns](2), float64(4), int64(3), object(1)\n",
            "memory usage: 122.4+ MB\n"
          ]
        }
      ]
    },
    {
      "cell_type": "code",
      "metadata": {
        "colab": {
          "base_uri": "https://localhost:8080/",
          "height": 344
        },
        "id": "JL8KzvAPxccw",
        "outputId": "31a75538-9bbb-43ef-e9db-b8e07fc63cad"
      },
      "source": [
        "df.head()"
      ],
      "execution_count": 121,
      "outputs": [
        {
          "output_type": "execute_result",
          "data": {
            "text/html": [
              "<div>\n",
              "<style scoped>\n",
              "    .dataframe tbody tr th:only-of-type {\n",
              "        vertical-align: middle;\n",
              "    }\n",
              "\n",
              "    .dataframe tbody tr th {\n",
              "        vertical-align: top;\n",
              "    }\n",
              "\n",
              "    .dataframe thead th {\n",
              "        text-align: right;\n",
              "    }\n",
              "</style>\n",
              "<table border=\"1\" class=\"dataframe\">\n",
              "  <thead>\n",
              "    <tr style=\"text-align: right;\">\n",
              "      <th></th>\n",
              "      <th>vendor_id</th>\n",
              "      <th>pickup_datetime</th>\n",
              "      <th>dropoff_datetime</th>\n",
              "      <th>passenger_count</th>\n",
              "      <th>pickup_longitude</th>\n",
              "      <th>pickup_latitude</th>\n",
              "      <th>dropoff_longitude</th>\n",
              "      <th>dropoff_latitude</th>\n",
              "      <th>store_and_fwd_flag</th>\n",
              "      <th>trip_duration</th>\n",
              "    </tr>\n",
              "    <tr>\n",
              "      <th>id</th>\n",
              "      <th></th>\n",
              "      <th></th>\n",
              "      <th></th>\n",
              "      <th></th>\n",
              "      <th></th>\n",
              "      <th></th>\n",
              "      <th></th>\n",
              "      <th></th>\n",
              "      <th></th>\n",
              "      <th></th>\n",
              "    </tr>\n",
              "  </thead>\n",
              "  <tbody>\n",
              "    <tr>\n",
              "      <th>id2875421</th>\n",
              "      <td>2</td>\n",
              "      <td>2016-03-14 17:24:55</td>\n",
              "      <td>2016-03-14 17:32:30</td>\n",
              "      <td>1</td>\n",
              "      <td>-73.982155</td>\n",
              "      <td>40.767937</td>\n",
              "      <td>-73.964630</td>\n",
              "      <td>40.765602</td>\n",
              "      <td>N</td>\n",
              "      <td>455</td>\n",
              "    </tr>\n",
              "    <tr>\n",
              "      <th>id2377394</th>\n",
              "      <td>1</td>\n",
              "      <td>2016-06-12 00:43:35</td>\n",
              "      <td>2016-06-12 00:54:38</td>\n",
              "      <td>1</td>\n",
              "      <td>-73.980415</td>\n",
              "      <td>40.738564</td>\n",
              "      <td>-73.999481</td>\n",
              "      <td>40.731152</td>\n",
              "      <td>N</td>\n",
              "      <td>663</td>\n",
              "    </tr>\n",
              "    <tr>\n",
              "      <th>id3858529</th>\n",
              "      <td>2</td>\n",
              "      <td>2016-01-19 11:35:24</td>\n",
              "      <td>2016-01-19 12:10:48</td>\n",
              "      <td>1</td>\n",
              "      <td>-73.979027</td>\n",
              "      <td>40.763939</td>\n",
              "      <td>-74.005333</td>\n",
              "      <td>40.710087</td>\n",
              "      <td>N</td>\n",
              "      <td>2124</td>\n",
              "    </tr>\n",
              "    <tr>\n",
              "      <th>id3504673</th>\n",
              "      <td>2</td>\n",
              "      <td>2016-04-06 19:32:31</td>\n",
              "      <td>2016-04-06 19:39:40</td>\n",
              "      <td>1</td>\n",
              "      <td>-74.010040</td>\n",
              "      <td>40.719971</td>\n",
              "      <td>-74.012268</td>\n",
              "      <td>40.706718</td>\n",
              "      <td>N</td>\n",
              "      <td>429</td>\n",
              "    </tr>\n",
              "    <tr>\n",
              "      <th>id2181028</th>\n",
              "      <td>2</td>\n",
              "      <td>2016-03-26 13:30:55</td>\n",
              "      <td>2016-03-26 13:38:10</td>\n",
              "      <td>1</td>\n",
              "      <td>-73.973053</td>\n",
              "      <td>40.793209</td>\n",
              "      <td>-73.972923</td>\n",
              "      <td>40.782520</td>\n",
              "      <td>N</td>\n",
              "      <td>435</td>\n",
              "    </tr>\n",
              "  </tbody>\n",
              "</table>\n",
              "</div>"
            ],
            "text/plain": [
              "           vendor_id     pickup_datetime  ... store_and_fwd_flag  trip_duration\n",
              "id                                        ...                                  \n",
              "id2875421          2 2016-03-14 17:24:55  ...                  N            455\n",
              "id2377394          1 2016-06-12 00:43:35  ...                  N            663\n",
              "id3858529          2 2016-01-19 11:35:24  ...                  N           2124\n",
              "id3504673          2 2016-04-06 19:32:31  ...                  N            429\n",
              "id2181028          2 2016-03-26 13:30:55  ...                  N            435\n",
              "\n",
              "[5 rows x 10 columns]"
            ]
          },
          "metadata": {},
          "execution_count": 121
        }
      ]
    },
    {
      "cell_type": "code",
      "metadata": {
        "colab": {
          "base_uri": "https://localhost:8080/",
          "height": 269
        },
        "id": "qbWUx0RHfSGL",
        "outputId": "9ec70c72-10ad-43c1-8853-036fc5dc0d07"
      },
      "source": [
        "df.corr()"
      ],
      "execution_count": 122,
      "outputs": [
        {
          "output_type": "execute_result",
          "data": {
            "text/html": [
              "<div>\n",
              "<style scoped>\n",
              "    .dataframe tbody tr th:only-of-type {\n",
              "        vertical-align: middle;\n",
              "    }\n",
              "\n",
              "    .dataframe tbody tr th {\n",
              "        vertical-align: top;\n",
              "    }\n",
              "\n",
              "    .dataframe thead th {\n",
              "        text-align: right;\n",
              "    }\n",
              "</style>\n",
              "<table border=\"1\" class=\"dataframe\">\n",
              "  <thead>\n",
              "    <tr style=\"text-align: right;\">\n",
              "      <th></th>\n",
              "      <th>vendor_id</th>\n",
              "      <th>passenger_count</th>\n",
              "      <th>pickup_longitude</th>\n",
              "      <th>pickup_latitude</th>\n",
              "      <th>dropoff_longitude</th>\n",
              "      <th>dropoff_latitude</th>\n",
              "      <th>trip_duration</th>\n",
              "    </tr>\n",
              "  </thead>\n",
              "  <tbody>\n",
              "    <tr>\n",
              "      <th>vendor_id</th>\n",
              "      <td>1.000000</td>\n",
              "      <td>0.287415</td>\n",
              "      <td>0.007820</td>\n",
              "      <td>0.001742</td>\n",
              "      <td>0.001528</td>\n",
              "      <td>0.004496</td>\n",
              "      <td>0.020304</td>\n",
              "    </tr>\n",
              "    <tr>\n",
              "      <th>passenger_count</th>\n",
              "      <td>0.287415</td>\n",
              "      <td>1.000000</td>\n",
              "      <td>0.002169</td>\n",
              "      <td>-0.005125</td>\n",
              "      <td>-0.000343</td>\n",
              "      <td>-0.002762</td>\n",
              "      <td>0.008471</td>\n",
              "    </tr>\n",
              "    <tr>\n",
              "      <th>pickup_longitude</th>\n",
              "      <td>0.007820</td>\n",
              "      <td>0.002169</td>\n",
              "      <td>1.000000</td>\n",
              "      <td>0.022568</td>\n",
              "      <td>0.783582</td>\n",
              "      <td>0.100190</td>\n",
              "      <td>0.026542</td>\n",
              "    </tr>\n",
              "    <tr>\n",
              "      <th>pickup_latitude</th>\n",
              "      <td>0.001742</td>\n",
              "      <td>-0.005125</td>\n",
              "      <td>0.022568</td>\n",
              "      <td>1.000000</td>\n",
              "      <td>0.114884</td>\n",
              "      <td>0.494038</td>\n",
              "      <td>-0.029204</td>\n",
              "    </tr>\n",
              "    <tr>\n",
              "      <th>dropoff_longitude</th>\n",
              "      <td>0.001528</td>\n",
              "      <td>-0.000343</td>\n",
              "      <td>0.783582</td>\n",
              "      <td>0.114884</td>\n",
              "      <td>1.000000</td>\n",
              "      <td>0.124873</td>\n",
              "      <td>0.014678</td>\n",
              "    </tr>\n",
              "    <tr>\n",
              "      <th>dropoff_latitude</th>\n",
              "      <td>0.004496</td>\n",
              "      <td>-0.002762</td>\n",
              "      <td>0.100190</td>\n",
              "      <td>0.494038</td>\n",
              "      <td>0.124873</td>\n",
              "      <td>1.000000</td>\n",
              "      <td>-0.020677</td>\n",
              "    </tr>\n",
              "    <tr>\n",
              "      <th>trip_duration</th>\n",
              "      <td>0.020304</td>\n",
              "      <td>0.008471</td>\n",
              "      <td>0.026542</td>\n",
              "      <td>-0.029204</td>\n",
              "      <td>0.014678</td>\n",
              "      <td>-0.020677</td>\n",
              "      <td>1.000000</td>\n",
              "    </tr>\n",
              "  </tbody>\n",
              "</table>\n",
              "</div>"
            ],
            "text/plain": [
              "                   vendor_id  passenger_count  ...  dropoff_latitude  trip_duration\n",
              "vendor_id           1.000000         0.287415  ...          0.004496       0.020304\n",
              "passenger_count     0.287415         1.000000  ...         -0.002762       0.008471\n",
              "pickup_longitude    0.007820         0.002169  ...          0.100190       0.026542\n",
              "pickup_latitude     0.001742        -0.005125  ...          0.494038      -0.029204\n",
              "dropoff_longitude   0.001528        -0.000343  ...          0.124873       0.014678\n",
              "dropoff_latitude    0.004496        -0.002762  ...          1.000000      -0.020677\n",
              "trip_duration       0.020304         0.008471  ...         -0.020677       1.000000\n",
              "\n",
              "[7 rows x 7 columns]"
            ]
          },
          "metadata": {},
          "execution_count": 122
        }
      ]
    },
    {
      "cell_type": "code",
      "metadata": {
        "colab": {
          "base_uri": "https://localhost:8080/",
          "height": 583
        },
        "id": "y5heJNYdgEI1",
        "outputId": "3d949741-4ef6-4977-a815-b8a50951d78a"
      },
      "source": [
        "plt.figure(figsize=(8,8))\n",
        "sns.heatmap(df.corr(),annot=True,cmap='Greens')"
      ],
      "execution_count": 123,
      "outputs": [
        {
          "output_type": "execute_result",
          "data": {
            "text/plain": [
              "<matplotlib.axes._subplots.AxesSubplot at 0x7f2df5a194d0>"
            ]
          },
          "metadata": {},
          "execution_count": 123
        },
        {
          "output_type": "display_data",
          "data": {
            "image/png": "[encoded data removed]",
            "text/plain": [
              "<Figure size 576x576 with 2 Axes>"
            ]
          },
          "metadata": {
            "needs_background": "light"
          }
        }
      ]
    },
    {
      "cell_type": "markdown",
      "metadata": {
        "id": "_gahcufRiF8m"
      },
      "source": [
        "## Lets work on converting dataset into useful format"
      ]
    },
    {
      "cell_type": "code",
      "metadata": {
        "id": "QRY-2rL-iFWR"
      },
      "source": [
        "import datetime\n",
        "df['pickup_year'] = df['pickup_datetime'].dt.year\n",
        "df['pickup_month'] = df['pickup_datetime'].dt.month\n",
        "df['pickup_day'] = df['pickup_datetime'].dt.day\n",
        "df['pickup_hour'] = df['pickup_datetime'].dt.hour\n",
        "df['pickup_minute'] = df['pickup_datetime'].dt.minute\n",
        "df['pickup_second'] = df['pickup_datetime'].dt.second\n",
        "df['pickup_dayname'] = df['pickup_datetime'].dt.day_name()"
      ],
      "execution_count": 124,
      "outputs": []
    },
    {
      "cell_type": "code",
      "metadata": {
        "colab": {
          "base_uri": "https://localhost:8080/",
          "height": 344
        },
        "id": "Lnxdn583jJo1",
        "outputId": "eecf3f03-ace7-4a9c-dc65-3ae7abc90300"
      },
      "source": [
        "df.head()"
      ],
      "execution_count": 125,
      "outputs": [
        {
          "output_type": "execute_result",
          "data": {
            "text/html": [
              "<div>\n",
              "<style scoped>\n",
              "    .dataframe tbody tr th:only-of-type {\n",
              "        vertical-align: middle;\n",
              "    }\n",
              "\n",
              "    .dataframe tbody tr th {\n",
              "        vertical-align: top;\n",
              "    }\n",
              "\n",
              "    .dataframe thead th {\n",
              "        text-align: right;\n",
              "    }\n",
              "</style>\n",
              "<table border=\"1\" class=\"dataframe\">\n",
              "  <thead>\n",
              "    <tr style=\"text-align: right;\">\n",
              "      <th></th>\n",
              "      <th>vendor_id</th>\n",
              "      <th>pickup_datetime</th>\n",
              "      <th>dropoff_datetime</th>\n",
              "      <th>passenger_count</th>\n",
              "      <th>pickup_longitude</th>\n",
              "      <th>pickup_latitude</th>\n",
              "      <th>dropoff_longitude</th>\n",
              "      <th>dropoff_latitude</th>\n",
              "      <th>store_and_fwd_flag</th>\n",
              "      <th>trip_duration</th>\n",
              "      <th>pickup_year</th>\n",
              "      <th>pickup_month</th>\n",
              "      <th>pickup_day</th>\n",
              "      <th>pickup_hour</th>\n",
              "      <th>pickup_minute</th>\n",
              "      <th>pickup_second</th>\n",
              "      <th>pickup_dayname</th>\n",
              "    </tr>\n",
              "    <tr>\n",
              "      <th>id</th>\n",
              "      <th></th>\n",
              "      <th></th>\n",
              "      <th></th>\n",
              "      <th></th>\n",
              "      <th></th>\n",
              "      <th></th>\n",
              "      <th></th>\n",
              "      <th></th>\n",
              "      <th></th>\n",
              "      <th></th>\n",
              "      <th></th>\n",
              "      <th></th>\n",
              "      <th></th>\n",
              "      <th></th>\n",
              "      <th></th>\n",
              "      <th></th>\n",
              "      <th></th>\n",
              "    </tr>\n",
              "  </thead>\n",
              "  <tbody>\n",
              "    <tr>\n",
              "      <th>id2875421</th>\n",
              "      <td>2</td>\n",
              "      <td>2016-03-14 17:24:55</td>\n",
              "      <td>2016-03-14 17:32:30</td>\n",
              "      <td>1</td>\n",
              "      <td>-73.982155</td>\n",
              "      <td>40.767937</td>\n",
              "      <td>-73.964630</td>\n",
              "      <td>40.765602</td>\n",
              "      <td>N</td>\n",
              "      <td>455</td>\n",
              "      <td>2016</td>\n",
              "      <td>3</td>\n",
              "      <td>14</td>\n",
              "      <td>17</td>\n",
              "      <td>24</td>\n",
              "      <td>55</td>\n",
              "      <td>Monday</td>\n",
              "    </tr>\n",
              "    <tr>\n",
              "      <th>id2377394</th>\n",
              "      <td>1</td>\n",
              "      <td>2016-06-12 00:43:35</td>\n",
              "      <td>2016-06-12 00:54:38</td>\n",
              "      <td>1</td>\n",
              "      <td>-73.980415</td>\n",
              "      <td>40.738564</td>\n",
              "      <td>-73.999481</td>\n",
              "      <td>40.731152</td>\n",
              "      <td>N</td>\n",
              "      <td>663</td>\n",
              "      <td>2016</td>\n",
              "      <td>6</td>\n",
              "      <td>12</td>\n",
              "      <td>0</td>\n",
              "      <td>43</td>\n",
              "      <td>35</td>\n",
              "      <td>Sunday</td>\n",
              "    </tr>\n",
              "    <tr>\n",
              "      <th>id3858529</th>\n",
              "      <td>2</td>\n",
              "      <td>2016-01-19 11:35:24</td>\n",
              "      <td>2016-01-19 12:10:48</td>\n",
              "      <td>1</td>\n",
              "      <td>-73.979027</td>\n",
              "      <td>40.763939</td>\n",
              "      <td>-74.005333</td>\n",
              "      <td>40.710087</td>\n",
              "      <td>N</td>\n",
              "      <td>2124</td>\n",
              "      <td>2016</td>\n",
              "      <td>1</td>\n",
              "      <td>19</td>\n",
              "      <td>11</td>\n",
              "      <td>35</td>\n",
              "      <td>24</td>\n",
              "      <td>Tuesday</td>\n",
              "    </tr>\n",
              "    <tr>\n",
              "      <th>id3504673</th>\n",
              "      <td>2</td>\n",
              "      <td>2016-04-06 19:32:31</td>\n",
              "      <td>2016-04-06 19:39:40</td>\n",
              "      <td>1</td>\n",
              "      <td>-74.010040</td>\n",
              "      <td>40.719971</td>\n",
              "      <td>-74.012268</td>\n",
              "      <td>40.706718</td>\n",
              "      <td>N</td>\n",
              "      <td>429</td>\n",
              "      <td>2016</td>\n",
              "      <td>4</td>\n",
              "      <td>6</td>\n",
              "      <td>19</td>\n",
              "      <td>32</td>\n",
              "      <td>31</td>\n",
              "      <td>Wednesday</td>\n",
              "    </tr>\n",
              "    <tr>\n",
              "      <th>id2181028</th>\n",
              "      <td>2</td>\n",
              "      <td>2016-03-26 13:30:55</td>\n",
              "      <td>2016-03-26 13:38:10</td>\n",
              "      <td>1</td>\n",
              "      <td>-73.973053</td>\n",
              "      <td>40.793209</td>\n",
              "      <td>-73.972923</td>\n",
              "      <td>40.782520</td>\n",
              "      <td>N</td>\n",
              "      <td>435</td>\n",
              "      <td>2016</td>\n",
              "      <td>3</td>\n",
              "      <td>26</td>\n",
              "      <td>13</td>\n",
              "      <td>30</td>\n",
              "      <td>55</td>\n",
              "      <td>Saturday</td>\n",
              "    </tr>\n",
              "  </tbody>\n",
              "</table>\n",
              "</div>"
            ],
            "text/plain": [
              "           vendor_id     pickup_datetime  ... pickup_second  pickup_dayname\n",
              "id                                        ...                              \n",
              "id2875421          2 2016-03-14 17:24:55  ...            55          Monday\n",
              "id2377394          1 2016-06-12 00:43:35  ...            35          Sunday\n",
              "id3858529          2 2016-01-19 11:35:24  ...            24         Tuesday\n",
              "id3504673          2 2016-04-06 19:32:31  ...            31       Wednesday\n",
              "id2181028          2 2016-03-26 13:30:55  ...            55        Saturday\n",
              "\n",
              "[5 rows x 17 columns]"
            ]
          },
          "metadata": {},
          "execution_count": 125
        }
      ]
    },
    {
      "cell_type": "code",
      "metadata": {
        "id": "iq1qnANZjau5"
      },
      "source": [
        "# finding distance using latitude and longitude \n",
        "def haversine_dist(sub_data):\n",
        "  dlat=np.radians(sub_data['dropoff_latitude']- sub_data['pickup_latitude'])\n",
        "  dlon=np.radians(sub_data['dropoff_longitude'] - sub_data['pickup_longitude'])\n",
        "  r=6371 #in km\n",
        "  h=np.sin(dlat/2)**2+np.cos(np.radians(sub_data['dropoff_latitude']))*np.cos(np.radians(sub_data['pickup_latitude']))*(np.sin(dlon/2))**2\n",
        "  d=2*r*np.arcsin(np.sqrt(h))\n",
        "  return d"
      ],
      "execution_count": 126,
      "outputs": []
    },
    {
      "cell_type": "code",
      "metadata": {
        "id": "Pfbhwo7gkGNb"
      },
      "source": [
        "df['distance']=df.apply(haversine_dist,axis=1)"
      ],
      "execution_count": 127,
      "outputs": []
    },
    {
      "cell_type": "code",
      "metadata": {
        "id": "miV2vDPDiZvK"
      },
      "source": [
        "# converting seconds to hrs\n",
        "def to_hrs(colu):\n",
        "  out = colu/3600\n",
        "  return out"
      ],
      "execution_count": 128,
      "outputs": []
    },
    {
      "cell_type": "code",
      "metadata": {
        "id": "Jnh6tgXNigqR"
      },
      "source": [
        "df['trip_duration']=df.trip_duration.apply(to_hrs)"
      ],
      "execution_count": 129,
      "outputs": []
    },
    {
      "cell_type": "code",
      "metadata": {
        "colab": {
          "base_uri": "https://localhost:8080/",
          "height": 344
        },
        "id": "ylVLrAIRioL3",
        "outputId": "cb72e605-bc12-4a80-f149-ce4f4fa1e89f"
      },
      "source": [
        "df.head()"
      ],
      "execution_count": 130,
      "outputs": [
        {
          "output_type": "execute_result",
          "data": {
            "text/html": [
              "<div>\n",
              "<style scoped>\n",
              "    .dataframe tbody tr th:only-of-type {\n",
              "        vertical-align: middle;\n",
              "    }\n",
              "\n",
              "    .dataframe tbody tr th {\n",
              "        vertical-align: top;\n",
              "    }\n",
              "\n",
              "    .dataframe thead th {\n",
              "        text-align: right;\n",
              "    }\n",
              "</style>\n",
              "<table border=\"1\" class=\"dataframe\">\n",
              "  <thead>\n",
              "    <tr style=\"text-align: right;\">\n",
              "      <th></th>\n",
              "      <th>vendor_id</th>\n",
              "      <th>pickup_datetime</th>\n",
              "      <th>dropoff_datetime</th>\n",
              "      <th>passenger_count</th>\n",
              "      <th>pickup_longitude</th>\n",
              "      <th>pickup_latitude</th>\n",
              "      <th>dropoff_longitude</th>\n",
              "      <th>dropoff_latitude</th>\n",
              "      <th>store_and_fwd_flag</th>\n",
              "      <th>trip_duration</th>\n",
              "      <th>pickup_year</th>\n",
              "      <th>pickup_month</th>\n",
              "      <th>pickup_day</th>\n",
              "      <th>pickup_hour</th>\n",
              "      <th>pickup_minute</th>\n",
              "      <th>pickup_second</th>\n",
              "      <th>pickup_dayname</th>\n",
              "      <th>distance</th>\n",
              "    </tr>\n",
              "    <tr>\n",
              "      <th>id</th>\n",
              "      <th></th>\n",
              "      <th></th>\n",
              "      <th></th>\n",
              "      <th></th>\n",
              "      <th></th>\n",
              "      <th></th>\n",
              "      <th></th>\n",
              "      <th></th>\n",
              "      <th></th>\n",
              "      <th></th>\n",
              "      <th></th>\n",
              "      <th></th>\n",
              "      <th></th>\n",
              "      <th></th>\n",
              "      <th></th>\n",
              "      <th></th>\n",
              "      <th></th>\n",
              "      <th></th>\n",
              "    </tr>\n",
              "  </thead>\n",
              "  <tbody>\n",
              "    <tr>\n",
              "      <th>id2875421</th>\n",
              "      <td>2</td>\n",
              "      <td>2016-03-14 17:24:55</td>\n",
              "      <td>2016-03-14 17:32:30</td>\n",
              "      <td>1</td>\n",
              "      <td>-73.982155</td>\n",
              "      <td>40.767937</td>\n",
              "      <td>-73.964630</td>\n",
              "      <td>40.765602</td>\n",
              "      <td>N</td>\n",
              "      <td>0.126389</td>\n",
              "      <td>2016</td>\n",
              "      <td>3</td>\n",
              "      <td>14</td>\n",
              "      <td>17</td>\n",
              "      <td>24</td>\n",
              "      <td>55</td>\n",
              "      <td>Monday</td>\n",
              "      <td>1.498521</td>\n",
              "    </tr>\n",
              "    <tr>\n",
              "      <th>id2377394</th>\n",
              "      <td>1</td>\n",
              "      <td>2016-06-12 00:43:35</td>\n",
              "      <td>2016-06-12 00:54:38</td>\n",
              "      <td>1</td>\n",
              "      <td>-73.980415</td>\n",
              "      <td>40.738564</td>\n",
              "      <td>-73.999481</td>\n",
              "      <td>40.731152</td>\n",
              "      <td>N</td>\n",
              "      <td>0.184167</td>\n",
              "      <td>2016</td>\n",
              "      <td>6</td>\n",
              "      <td>12</td>\n",
              "      <td>0</td>\n",
              "      <td>43</td>\n",
              "      <td>35</td>\n",
              "      <td>Sunday</td>\n",
              "      <td>1.805507</td>\n",
              "    </tr>\n",
              "    <tr>\n",
              "      <th>id3858529</th>\n",
              "      <td>2</td>\n",
              "      <td>2016-01-19 11:35:24</td>\n",
              "      <td>2016-01-19 12:10:48</td>\n",
              "      <td>1</td>\n",
              "      <td>-73.979027</td>\n",
              "      <td>40.763939</td>\n",
              "      <td>-74.005333</td>\n",
              "      <td>40.710087</td>\n",
              "      <td>N</td>\n",
              "      <td>0.590000</td>\n",
              "      <td>2016</td>\n",
              "      <td>1</td>\n",
              "      <td>19</td>\n",
              "      <td>11</td>\n",
              "      <td>35</td>\n",
              "      <td>24</td>\n",
              "      <td>Tuesday</td>\n",
              "      <td>6.385098</td>\n",
              "    </tr>\n",
              "    <tr>\n",
              "      <th>id3504673</th>\n",
              "      <td>2</td>\n",
              "      <td>2016-04-06 19:32:31</td>\n",
              "      <td>2016-04-06 19:39:40</td>\n",
              "      <td>1</td>\n",
              "      <td>-74.010040</td>\n",
              "      <td>40.719971</td>\n",
              "      <td>-74.012268</td>\n",
              "      <td>40.706718</td>\n",
              "      <td>N</td>\n",
              "      <td>0.119167</td>\n",
              "      <td>2016</td>\n",
              "      <td>4</td>\n",
              "      <td>6</td>\n",
              "      <td>19</td>\n",
              "      <td>32</td>\n",
              "      <td>31</td>\n",
              "      <td>Wednesday</td>\n",
              "      <td>1.485498</td>\n",
              "    </tr>\n",
              "    <tr>\n",
              "      <th>id2181028</th>\n",
              "      <td>2</td>\n",
              "      <td>2016-03-26 13:30:55</td>\n",
              "      <td>2016-03-26 13:38:10</td>\n",
              "      <td>1</td>\n",
              "      <td>-73.973053</td>\n",
              "      <td>40.793209</td>\n",
              "      <td>-73.972923</td>\n",
              "      <td>40.782520</td>\n",
              "      <td>N</td>\n",
              "      <td>0.120833</td>\n",
              "      <td>2016</td>\n",
              "      <td>3</td>\n",
              "      <td>26</td>\n",
              "      <td>13</td>\n",
              "      <td>30</td>\n",
              "      <td>55</td>\n",
              "      <td>Saturday</td>\n",
              "      <td>1.188588</td>\n",
              "    </tr>\n",
              "  </tbody>\n",
              "</table>\n",
              "</div>"
            ],
            "text/plain": [
              "           vendor_id     pickup_datetime  ... pickup_dayname  distance\n",
              "id                                        ...                         \n",
              "id2875421          2 2016-03-14 17:24:55  ...         Monday  1.498521\n",
              "id2377394          1 2016-06-12 00:43:35  ...         Sunday  1.805507\n",
              "id3858529          2 2016-01-19 11:35:24  ...        Tuesday  6.385098\n",
              "id3504673          2 2016-04-06 19:32:31  ...      Wednesday  1.485498\n",
              "id2181028          2 2016-03-26 13:30:55  ...       Saturday  1.188588\n",
              "\n",
              "[5 rows x 18 columns]"
            ]
          },
          "metadata": {},
          "execution_count": 130
        }
      ]
    },
    {
      "cell_type": "code",
      "metadata": {
        "id": "q3kJPGthjSEL"
      },
      "source": [
        "def velocity(df):\n",
        "    return (df['distance']/(df['trip_duration']))"
      ],
      "execution_count": 131,
      "outputs": []
    },
    {
      "cell_type": "code",
      "metadata": {
        "id": "nJ29Sm-TjVCM"
      },
      "source": [
        "df['Velocity']  = df.apply(velocity, axis = 1)"
      ],
      "execution_count": 132,
      "outputs": []
    },
    {
      "cell_type": "code",
      "metadata": {
        "colab": {
          "base_uri": "https://localhost:8080/",
          "height": 344
        },
        "id": "tTnQxXHsjqZY",
        "outputId": "7a7e841d-f49e-4b00-a7b1-c29ec4c10adc"
      },
      "source": [
        "df.head()"
      ],
      "execution_count": 133,
      "outputs": [
        {
          "output_type": "execute_result",
          "data": {
            "text/html": [
              "<div>\n",
              "<style scoped>\n",
              "    .dataframe tbody tr th:only-of-type {\n",
              "        vertical-align: middle;\n",
              "    }\n",
              "\n",
              "    .dataframe tbody tr th {\n",
              "        vertical-align: top;\n",
              "    }\n",
              "\n",
              "    .dataframe thead th {\n",
              "        text-align: right;\n",
              "    }\n",
              "</style>\n",
              "<table border=\"1\" class=\"dataframe\">\n",
              "  <thead>\n",
              "    <tr style=\"text-align: right;\">\n",
              "      <th></th>\n",
              "      <th>vendor_id</th>\n",
              "      <th>pickup_datetime</th>\n",
              "      <th>dropoff_datetime</th>\n",
              "      <th>passenger_count</th>\n",
              "      <th>pickup_longitude</th>\n",
              "      <th>pickup_latitude</th>\n",
              "      <th>dropoff_longitude</th>\n",
              "      <th>dropoff_latitude</th>\n",
              "      <th>store_and_fwd_flag</th>\n",
              "      <th>trip_duration</th>\n",
              "      <th>pickup_year</th>\n",
              "      <th>pickup_month</th>\n",
              "      <th>pickup_day</th>\n",
              "      <th>pickup_hour</th>\n",
              "      <th>pickup_minute</th>\n",
              "      <th>pickup_second</th>\n",
              "      <th>pickup_dayname</th>\n",
              "      <th>distance</th>\n",
              "      <th>Velocity</th>\n",
              "    </tr>\n",
              "    <tr>\n",
              "      <th>id</th>\n",
              "      <th></th>\n",
              "      <th></th>\n",
              "      <th></th>\n",
              "      <th></th>\n",
              "      <th></th>\n",
              "      <th></th>\n",
              "      <th></th>\n",
              "      <th></th>\n",
              "      <th></th>\n",
              "      <th></th>\n",
              "      <th></th>\n",
              "      <th></th>\n",
              "      <th></th>\n",
              "      <th></th>\n",
              "      <th></th>\n",
              "      <th></th>\n",
              "      <th></th>\n",
              "      <th></th>\n",
              "      <th></th>\n",
              "    </tr>\n",
              "  </thead>\n",
              "  <tbody>\n",
              "    <tr>\n",
              "      <th>id2875421</th>\n",
              "      <td>2</td>\n",
              "      <td>2016-03-14 17:24:55</td>\n",
              "      <td>2016-03-14 17:32:30</td>\n",
              "      <td>1</td>\n",
              "      <td>-73.982155</td>\n",
              "      <td>40.767937</td>\n",
              "      <td>-73.964630</td>\n",
              "      <td>40.765602</td>\n",
              "      <td>N</td>\n",
              "      <td>0.126389</td>\n",
              "      <td>2016</td>\n",
              "      <td>3</td>\n",
              "      <td>14</td>\n",
              "      <td>17</td>\n",
              "      <td>24</td>\n",
              "      <td>55</td>\n",
              "      <td>Monday</td>\n",
              "      <td>1.498521</td>\n",
              "      <td>11.856428</td>\n",
              "    </tr>\n",
              "    <tr>\n",
              "      <th>id2377394</th>\n",
              "      <td>1</td>\n",
              "      <td>2016-06-12 00:43:35</td>\n",
              "      <td>2016-06-12 00:54:38</td>\n",
              "      <td>1</td>\n",
              "      <td>-73.980415</td>\n",
              "      <td>40.738564</td>\n",
              "      <td>-73.999481</td>\n",
              "      <td>40.731152</td>\n",
              "      <td>N</td>\n",
              "      <td>0.184167</td>\n",
              "      <td>2016</td>\n",
              "      <td>6</td>\n",
              "      <td>12</td>\n",
              "      <td>0</td>\n",
              "      <td>43</td>\n",
              "      <td>35</td>\n",
              "      <td>Sunday</td>\n",
              "      <td>1.805507</td>\n",
              "      <td>9.803659</td>\n",
              "    </tr>\n",
              "    <tr>\n",
              "      <th>id3858529</th>\n",
              "      <td>2</td>\n",
              "      <td>2016-01-19 11:35:24</td>\n",
              "      <td>2016-01-19 12:10:48</td>\n",
              "      <td>1</td>\n",
              "      <td>-73.979027</td>\n",
              "      <td>40.763939</td>\n",
              "      <td>-74.005333</td>\n",
              "      <td>40.710087</td>\n",
              "      <td>N</td>\n",
              "      <td>0.590000</td>\n",
              "      <td>2016</td>\n",
              "      <td>1</td>\n",
              "      <td>19</td>\n",
              "      <td>11</td>\n",
              "      <td>35</td>\n",
              "      <td>24</td>\n",
              "      <td>Tuesday</td>\n",
              "      <td>6.385098</td>\n",
              "      <td>10.822201</td>\n",
              "    </tr>\n",
              "    <tr>\n",
              "      <th>id3504673</th>\n",
              "      <td>2</td>\n",
              "      <td>2016-04-06 19:32:31</td>\n",
              "      <td>2016-04-06 19:39:40</td>\n",
              "      <td>1</td>\n",
              "      <td>-74.010040</td>\n",
              "      <td>40.719971</td>\n",
              "      <td>-74.012268</td>\n",
              "      <td>40.706718</td>\n",
              "      <td>N</td>\n",
              "      <td>0.119167</td>\n",
              "      <td>2016</td>\n",
              "      <td>4</td>\n",
              "      <td>6</td>\n",
              "      <td>19</td>\n",
              "      <td>32</td>\n",
              "      <td>31</td>\n",
              "      <td>Wednesday</td>\n",
              "      <td>1.485498</td>\n",
              "      <td>12.465721</td>\n",
              "    </tr>\n",
              "    <tr>\n",
              "      <th>id2181028</th>\n",
              "      <td>2</td>\n",
              "      <td>2016-03-26 13:30:55</td>\n",
              "      <td>2016-03-26 13:38:10</td>\n",
              "      <td>1</td>\n",
              "      <td>-73.973053</td>\n",
              "      <td>40.793209</td>\n",
              "      <td>-73.972923</td>\n",
              "      <td>40.782520</td>\n",
              "      <td>N</td>\n",
              "      <td>0.120833</td>\n",
              "      <td>2016</td>\n",
              "      <td>3</td>\n",
              "      <td>26</td>\n",
              "      <td>13</td>\n",
              "      <td>30</td>\n",
              "      <td>55</td>\n",
              "      <td>Saturday</td>\n",
              "      <td>1.188588</td>\n",
              "      <td>9.836594</td>\n",
              "    </tr>\n",
              "  </tbody>\n",
              "</table>\n",
              "</div>"
            ],
            "text/plain": [
              "           vendor_id     pickup_datetime  ...  distance   Velocity\n",
              "id                                        ...                     \n",
              "id2875421          2 2016-03-14 17:24:55  ...  1.498521  11.856428\n",
              "id2377394          1 2016-06-12 00:43:35  ...  1.805507   9.803659\n",
              "id3858529          2 2016-01-19 11:35:24  ...  6.385098  10.822201\n",
              "id3504673          2 2016-04-06 19:32:31  ...  1.485498  12.465721\n",
              "id2181028          2 2016-03-26 13:30:55  ...  1.188588   9.836594\n",
              "\n",
              "[5 rows x 19 columns]"
            ]
          },
          "metadata": {},
          "execution_count": 133
        }
      ]
    },
    {
      "cell_type": "code",
      "metadata": {
        "colab": {
          "base_uri": "https://localhost:8080/"
        },
        "id": "5GdzjazfiWYB",
        "outputId": "ff72d224-c28b-4e44-d3eb-6c40bcc633ae"
      },
      "source": [
        "df.shape"
      ],
      "execution_count": 134,
      "outputs": [
        {
          "output_type": "execute_result",
          "data": {
            "text/plain": [
              "(1458644, 19)"
            ]
          },
          "metadata": {},
          "execution_count": 134
        }
      ]
    },
    {
      "cell_type": "code",
      "metadata": {
        "id": "GQ5mnrBEeLGp"
      },
      "source": [
        "# new_data = main_df[['passenger_count','pickup_longitude','pickup_latitude','dropoff_longitude','dropoff_latitude','trip_duration']]"
      ],
      "execution_count": 135,
      "outputs": []
    },
    {
      "cell_type": "markdown",
      "metadata": {
        "id": "Z8jQZqAThZ6F"
      },
      "source": [
        "## Univariate Analysis"
      ]
    },
    {
      "cell_type": "code",
      "metadata": {
        "colab": {
          "base_uri": "https://localhost:8080/"
        },
        "id": "nUFEMTYahdXf",
        "outputId": "09187815-84cf-42c1-c089-fed41258d4db"
      },
      "source": [
        "df['vendor_id'].value_counts()"
      ],
      "execution_count": 136,
      "outputs": [
        {
          "output_type": "execute_result",
          "data": {
            "text/plain": [
              "2    780302\n",
              "1    678342\n",
              "Name: vendor_id, dtype: int64"
            ]
          },
          "metadata": {},
          "execution_count": 136
        }
      ]
    },
    {
      "cell_type": "code",
      "metadata": {
        "colab": {
          "base_uri": "https://localhost:8080/",
          "height": 313
        },
        "id": "tG0uARBikpSa",
        "outputId": "2ba8f9f8-8749-4158-9ec4-f6c486ccf7c0"
      },
      "source": [
        "import seaborn as sns\n",
        "vend=df.vendor_id.value_counts().reset_index()\n",
        "sns.barplot(x = vend['index'], y = vend.vendor_id,data = vend).set( title = 'Prominent Vendor offering services')"
      ],
      "execution_count": 137,
      "outputs": [
        {
          "output_type": "execute_result",
          "data": {
            "text/plain": [
              "[Text(0.5, 1.0, 'Prominent Vendor offering services')]"
            ]
          },
          "metadata": {},
          "execution_count": 137
        },
        {
          "output_type": "display_data",
          "data": {
            "image/png": "[encoded data removed]",
            "text/plain": [
              "<Figure size 432x288 with 1 Axes>"
            ]
          },
          "metadata": {
            "needs_background": "light"
          }
        }
      ]
    },
    {
      "cell_type": "markdown",
      "metadata": {
        "id": "6fmyRivbk45y"
      },
      "source": [
        "### passenger count"
      ]
    },
    {
      "cell_type": "code",
      "metadata": {
        "colab": {
          "base_uri": "https://localhost:8080/",
          "height": 363
        },
        "id": "4WBER8JKk3cu",
        "outputId": "5341a6cc-f4f6-4f42-c5d6-f9e6979a43b3"
      },
      "source": [
        "passengers = df.passenger_count.value_counts().reset_index()\n",
        "passengers"
      ],
      "execution_count": 138,
      "outputs": [
        {
          "output_type": "execute_result",
          "data": {
            "text/html": [
              "<div>\n",
              "<style scoped>\n",
              "    .dataframe tbody tr th:only-of-type {\n",
              "        vertical-align: middle;\n",
              "    }\n",
              "\n",
              "    .dataframe tbody tr th {\n",
              "        vertical-align: top;\n",
              "    }\n",
              "\n",
              "    .dataframe thead th {\n",
              "        text-align: right;\n",
              "    }\n",
              "</style>\n",
              "<table border=\"1\" class=\"dataframe\">\n",
              "  <thead>\n",
              "    <tr style=\"text-align: right;\">\n",
              "      <th></th>\n",
              "      <th>index</th>\n",
              "      <th>passenger_count</th>\n",
              "    </tr>\n",
              "  </thead>\n",
              "  <tbody>\n",
              "    <tr>\n",
              "      <th>0</th>\n",
              "      <td>1</td>\n",
              "      <td>1033540</td>\n",
              "    </tr>\n",
              "    <tr>\n",
              "      <th>1</th>\n",
              "      <td>2</td>\n",
              "      <td>210318</td>\n",
              "    </tr>\n",
              "    <tr>\n",
              "      <th>2</th>\n",
              "      <td>5</td>\n",
              "      <td>78088</td>\n",
              "    </tr>\n",
              "    <tr>\n",
              "      <th>3</th>\n",
              "      <td>3</td>\n",
              "      <td>59896</td>\n",
              "    </tr>\n",
              "    <tr>\n",
              "      <th>4</th>\n",
              "      <td>6</td>\n",
              "      <td>48333</td>\n",
              "    </tr>\n",
              "    <tr>\n",
              "      <th>5</th>\n",
              "      <td>4</td>\n",
              "      <td>28404</td>\n",
              "    </tr>\n",
              "    <tr>\n",
              "      <th>6</th>\n",
              "      <td>0</td>\n",
              "      <td>60</td>\n",
              "    </tr>\n",
              "    <tr>\n",
              "      <th>7</th>\n",
              "      <td>7</td>\n",
              "      <td>3</td>\n",
              "    </tr>\n",
              "    <tr>\n",
              "      <th>8</th>\n",
              "      <td>9</td>\n",
              "      <td>1</td>\n",
              "    </tr>\n",
              "    <tr>\n",
              "      <th>9</th>\n",
              "      <td>8</td>\n",
              "      <td>1</td>\n",
              "    </tr>\n",
              "  </tbody>\n",
              "</table>\n",
              "</div>"
            ],
            "text/plain": [
              "   index  passenger_count\n",
              "0      1          1033540\n",
              "1      2           210318\n",
              "2      5            78088\n",
              "3      3            59896\n",
              "4      6            48333\n",
              "5      4            28404\n",
              "6      0               60\n",
              "7      7                3\n",
              "8      9                1\n",
              "9      8                1"
            ]
          },
          "metadata": {},
          "execution_count": 138
        }
      ]
    },
    {
      "cell_type": "markdown",
      "metadata": {
        "id": "ghizFgsHk_zk"
      },
      "source": [
        "- A maximum of 4 passengers may be carried in most cabs, \n",
        "\n",
        "- although larger minivans may accommodate 5 passengers, and 1 child under seven can sit on an adult’s lap in the back seat if the maximum has been reached, this means we can have 6 passengers"
      ]
    },
    {
      "cell_type": "code",
      "metadata": {
        "id": "pRPZ8xGalaLj"
      },
      "source": [
        "df = df.drop(df[df['passenger_count'] > 6].index) "
      ],
      "execution_count": 139,
      "outputs": []
    },
    {
      "cell_type": "code",
      "metadata": {
        "colab": {
          "base_uri": "https://localhost:8080/",
          "height": 269
        },
        "id": "pfuxvTDjmb7F",
        "outputId": "70657542-e548-42fb-a778-faff3b3dc4f0"
      },
      "source": [
        "passengers=df.passenger_count.value_counts().reset_index()\n",
        "passengers"
      ],
      "execution_count": 140,
      "outputs": [
        {
          "output_type": "execute_result",
          "data": {
            "text/html": [
              "<div>\n",
              "<style scoped>\n",
              "    .dataframe tbody tr th:only-of-type {\n",
              "        vertical-align: middle;\n",
              "    }\n",
              "\n",
              "    .dataframe tbody tr th {\n",
              "        vertical-align: top;\n",
              "    }\n",
              "\n",
              "    .dataframe thead th {\n",
              "        text-align: right;\n",
              "    }\n",
              "</style>\n",
              "<table border=\"1\" class=\"dataframe\">\n",
              "  <thead>\n",
              "    <tr style=\"text-align: right;\">\n",
              "      <th></th>\n",
              "      <th>index</th>\n",
              "      <th>passenger_count</th>\n",
              "    </tr>\n",
              "  </thead>\n",
              "  <tbody>\n",
              "    <tr>\n",
              "      <th>0</th>\n",
              "      <td>1</td>\n",
              "      <td>1033540</td>\n",
              "    </tr>\n",
              "    <tr>\n",
              "      <th>1</th>\n",
              "      <td>2</td>\n",
              "      <td>210318</td>\n",
              "    </tr>\n",
              "    <tr>\n",
              "      <th>2</th>\n",
              "      <td>5</td>\n",
              "      <td>78088</td>\n",
              "    </tr>\n",
              "    <tr>\n",
              "      <th>3</th>\n",
              "      <td>3</td>\n",
              "      <td>59896</td>\n",
              "    </tr>\n",
              "    <tr>\n",
              "      <th>4</th>\n",
              "      <td>6</td>\n",
              "      <td>48333</td>\n",
              "    </tr>\n",
              "    <tr>\n",
              "      <th>5</th>\n",
              "      <td>4</td>\n",
              "      <td>28404</td>\n",
              "    </tr>\n",
              "    <tr>\n",
              "      <th>6</th>\n",
              "      <td>0</td>\n",
              "      <td>60</td>\n",
              "    </tr>\n",
              "  </tbody>\n",
              "</table>\n",
              "</div>"
            ],
            "text/plain": [
              "   index  passenger_count\n",
              "0      1          1033540\n",
              "1      2           210318\n",
              "2      5            78088\n",
              "3      3            59896\n",
              "4      6            48333\n",
              "5      4            28404\n",
              "6      0               60"
            ]
          },
          "metadata": {},
          "execution_count": 140
        }
      ]
    },
    {
      "cell_type": "code",
      "metadata": {
        "colab": {
          "base_uri": "https://localhost:8080/",
          "height": 307
        },
        "id": "wRFvfpsJy3O9",
        "outputId": "699dab16-ab91-48e7-d0f9-ae53429d054d"
      },
      "source": [
        "sns.barplot(x=passengers['index'],y = passengers['passenger_count'],palette='vlag')"
      ],
      "execution_count": 141,
      "outputs": [
        {
          "output_type": "execute_result",
          "data": {
            "text/plain": [
              "<matplotlib.axes._subplots.AxesSubplot at 0x7f2dc4c0add0>"
            ]
          },
          "metadata": {},
          "execution_count": 141
        },
        {
          "output_type": "display_data",
          "data": {
            "image/png": "[encoded data removed]",
            "text/plain": [
              "<Figure size 432x288 with 1 Axes>"
            ]
          },
          "metadata": {
            "needs_background": "light"
          }
        }
      ]
    },
    {
      "cell_type": "code",
      "metadata": {
        "id": "tRmBuZHhzoe1"
      },
      "source": [
        "df=df.drop(df[df['passenger_count']==0].index)"
      ],
      "execution_count": 142,
      "outputs": []
    },
    {
      "cell_type": "code",
      "metadata": {
        "colab": {
          "base_uri": "https://localhost:8080/",
          "height": 237
        },
        "id": "7ex15ljI1O4n",
        "outputId": "571ea8f8-1c47-4766-bceb-de47d3074eef"
      },
      "source": [
        "passengers=df.passenger_count.value_counts().reset_index()\n",
        "passengers"
      ],
      "execution_count": 143,
      "outputs": [
        {
          "output_type": "execute_result",
          "data": {
            "text/html": [
              "<div>\n",
              "<style scoped>\n",
              "    .dataframe tbody tr th:only-of-type {\n",
              "        vertical-align: middle;\n",
              "    }\n",
              "\n",
              "    .dataframe tbody tr th {\n",
              "        vertical-align: top;\n",
              "    }\n",
              "\n",
              "    .dataframe thead th {\n",
              "        text-align: right;\n",
              "    }\n",
              "</style>\n",
              "<table border=\"1\" class=\"dataframe\">\n",
              "  <thead>\n",
              "    <tr style=\"text-align: right;\">\n",
              "      <th></th>\n",
              "      <th>index</th>\n",
              "      <th>passenger_count</th>\n",
              "    </tr>\n",
              "  </thead>\n",
              "  <tbody>\n",
              "    <tr>\n",
              "      <th>0</th>\n",
              "      <td>1</td>\n",
              "      <td>1033540</td>\n",
              "    </tr>\n",
              "    <tr>\n",
              "      <th>1</th>\n",
              "      <td>2</td>\n",
              "      <td>210318</td>\n",
              "    </tr>\n",
              "    <tr>\n",
              "      <th>2</th>\n",
              "      <td>5</td>\n",
              "      <td>78088</td>\n",
              "    </tr>\n",
              "    <tr>\n",
              "      <th>3</th>\n",
              "      <td>3</td>\n",
              "      <td>59896</td>\n",
              "    </tr>\n",
              "    <tr>\n",
              "      <th>4</th>\n",
              "      <td>6</td>\n",
              "      <td>48333</td>\n",
              "    </tr>\n",
              "    <tr>\n",
              "      <th>5</th>\n",
              "      <td>4</td>\n",
              "      <td>28404</td>\n",
              "    </tr>\n",
              "  </tbody>\n",
              "</table>\n",
              "</div>"
            ],
            "text/plain": [
              "   index  passenger_count\n",
              "0      1          1033540\n",
              "1      2           210318\n",
              "2      5            78088\n",
              "3      3            59896\n",
              "4      6            48333\n",
              "5      4            28404"
            ]
          },
          "metadata": {},
          "execution_count": 143
        }
      ]
    },
    {
      "cell_type": "code",
      "metadata": {
        "colab": {
          "base_uri": "https://localhost:8080/",
          "height": 307
        },
        "id": "3i4eL-Lb0HVQ",
        "outputId": "d49d7281-3413-48d1-cbd7-8afeb60d6cb2"
      },
      "source": [
        "sns.barplot(x=passengers['index'],y = passengers['passenger_count'],palette='vlag')"
      ],
      "execution_count": 144,
      "outputs": [
        {
          "output_type": "execute_result",
          "data": {
            "text/plain": [
              "<matplotlib.axes._subplots.AxesSubplot at 0x7f2d98c5e1d0>"
            ]
          },
          "metadata": {},
          "execution_count": 144
        },
        {
          "output_type": "display_data",
          "data": {
            "image/png": "[encoded data removed]",
            "text/plain": [
              "<Figure size 432x288 with 1 Axes>"
            ]
          },
          "metadata": {
            "needs_background": "light"
          }
        }
      ]
    },
    {
      "cell_type": "markdown",
      "metadata": {
        "id": "9UnstQojoLC0"
      },
      "source": [
        "### store "
      ]
    },
    {
      "cell_type": "code",
      "metadata": {
        "colab": {
          "base_uri": "https://localhost:8080/",
          "height": 307
        },
        "id": "xNdA7921oI6e",
        "outputId": "db1b7ad9-3450-4a67-814c-385d4c9fd0bf"
      },
      "source": [
        "store=df['store_and_fwd_flag'].value_counts().reset_index()\n",
        "sns.barplot(x=store['index'],y=store['store_and_fwd_flag'])"
      ],
      "execution_count": 145,
      "outputs": [
        {
          "output_type": "execute_result",
          "data": {
            "text/plain": [
              "<matplotlib.axes._subplots.AxesSubplot at 0x7f2d98c5f310>"
            ]
          },
          "metadata": {},
          "execution_count": 145
        },
        {
          "output_type": "display_data",
          "data": {
            "image/png": "[encoded data removed]",
            "text/plain": [
              "<Figure size 432x288 with 1 Axes>"
            ]
          },
          "metadata": {
            "needs_background": "light"
          }
        }
      ]
    },
    {
      "cell_type": "markdown",
      "metadata": {
        "id": "mynPRvwVqDOr"
      },
      "source": [
        "### trip duration"
      ]
    },
    {
      "cell_type": "code",
      "metadata": {
        "colab": {
          "base_uri": "https://localhost:8080/"
        },
        "id": "eb2uCD17qR-E",
        "outputId": "3172b4e1-e385-43e5-e3e6-fe582e8f15df"
      },
      "source": [
        "df['trip_duration'].describe()"
      ],
      "execution_count": 146,
      "outputs": [
        {
          "output_type": "execute_result",
          "data": {
            "text/plain": [
              "count    1.458579e+06\n",
              "mean     2.665177e-01\n",
              "std      1.454742e+00\n",
              "min      2.777778e-04\n",
              "25%      1.102778e-01\n",
              "50%      1.838889e-01\n",
              "75%      2.986111e-01\n",
              "max      9.795228e+02\n",
              "Name: trip_duration, dtype: float64"
            ]
          },
          "metadata": {},
          "execution_count": 146
        }
      ]
    },
    {
      "cell_type": "code",
      "metadata": {
        "colab": {
          "base_uri": "https://localhost:8080/"
        },
        "id": "FlXgIv8tqbg2",
        "outputId": "b1f01f8b-112b-43a1-d4de-c685de6bd860"
      },
      "source": [
        "df.trip_duration.value_counts()"
      ],
      "execution_count": 147,
      "outputs": [
        {
          "output_type": "execute_result",
          "data": {
            "text/plain": [
              "0.102222     1624\n",
              "0.113333     1584\n",
              "0.096667     1582\n",
              "0.101944     1581\n",
              "0.099444     1577\n",
              "             ... \n",
              "1.390278        1\n",
              "17.053333       1\n",
              "23.364167       1\n",
              "22.935000       1\n",
              "23.396111       1\n",
              "Name: trip_duration, Length: 7416, dtype: int64"
            ]
          },
          "metadata": {},
          "execution_count": 147
        }
      ]
    },
    {
      "cell_type": "code",
      "metadata": {
        "colab": {
          "base_uri": "https://localhost:8080/",
          "height": 352
        },
        "id": "J_EhrMihqzMO",
        "outputId": "dec71006-f516-4194-dddd-d10b638ab48d"
      },
      "source": [
        "sns.boxplot(df.trip_duration)"
      ],
      "execution_count": 148,
      "outputs": [
        {
          "output_type": "stream",
          "name": "stderr",
          "text": [
            "/usr/local/lib/python3.7/dist-packages/seaborn/_decorators.py:43: FutureWarning: Pass the following variable as a keyword arg: x. From version 0.12, the only valid positional argument will be `data`, and passing other arguments without an explicit keyword will result in an error or misinterpretation.\n",
            "  FutureWarning\n"
          ]
        },
        {
          "output_type": "execute_result",
          "data": {
            "text/plain": [
              "<matplotlib.axes._subplots.AxesSubplot at 0x7f2d98474290>"
            ]
          },
          "metadata": {},
          "execution_count": 148
        },
        {
          "output_type": "display_data",
          "data": {
            "image/png": "[encoded data removed]",
            "text/plain": [
              "<Figure size 432x288 with 1 Axes>"
            ]
          },
          "metadata": {
            "needs_background": "light"
          }
        }
      ]
    },
    {
      "cell_type": "code",
      "metadata": {
        "colab": {
          "base_uri": "https://localhost:8080/",
          "height": 352
        },
        "id": "NFbkC7J6qCPj",
        "outputId": "5534207b-9dc4-4f26-96b3-1bf418e03400"
      },
      "source": [
        "sns.distplot(df['trip_duration'])"
      ],
      "execution_count": 149,
      "outputs": [
        {
          "output_type": "stream",
          "name": "stderr",
          "text": [
            "/usr/local/lib/python3.7/dist-packages/seaborn/distributions.py:2619: FutureWarning: `distplot` is a deprecated function and will be removed in a future version. Please adapt your code to use either `displot` (a figure-level function with similar flexibility) or `histplot` (an axes-level function for histograms).\n",
            "  warnings.warn(msg, FutureWarning)\n"
          ]
        },
        {
          "output_type": "execute_result",
          "data": {
            "text/plain": [
              "<matplotlib.axes._subplots.AxesSubplot at 0x7f2d990c54d0>"
            ]
          },
          "metadata": {},
          "execution_count": 149
        },
        {
          "output_type": "display_data",
          "data": {
            "image/png": "[encoded data removed]",
            "text/plain": [
              "<Figure size 432x288 with 1 Axes>"
            ]
          },
          "metadata": {
            "needs_background": "light"
          }
        }
      ]
    },
    {
      "cell_type": "code",
      "metadata": {
        "id": "14RDnzpRrZiL"
      },
      "source": [
        "df=df.drop(df[df['trip_duration']>=24].index)"
      ],
      "execution_count": 150,
      "outputs": []
    },
    {
      "cell_type": "code",
      "metadata": {
        "colab": {
          "base_uri": "https://localhost:8080/",
          "height": 352
        },
        "id": "q7plQL8dsNpV",
        "outputId": "9b2544c0-a1c1-48df-dd18-531ba3978315"
      },
      "source": [
        "sns.boxplot(df.trip_duration)"
      ],
      "execution_count": 151,
      "outputs": [
        {
          "output_type": "stream",
          "name": "stderr",
          "text": [
            "/usr/local/lib/python3.7/dist-packages/seaborn/_decorators.py:43: FutureWarning: Pass the following variable as a keyword arg: x. From version 0.12, the only valid positional argument will be `data`, and passing other arguments without an explicit keyword will result in an error or misinterpretation.\n",
            "  FutureWarning\n"
          ]
        },
        {
          "output_type": "execute_result",
          "data": {
            "text/plain": [
              "<matplotlib.axes._subplots.AxesSubplot at 0x7f2d96010450>"
            ]
          },
          "metadata": {},
          "execution_count": 151
        },
        {
          "output_type": "display_data",
          "data": {
            "image/png": "[encoded data removed]",
            "text/plain": [
              "<Figure size 432x288 with 1 Axes>"
            ]
          },
          "metadata": {
            "needs_background": "light"
          }
        }
      ]
    },
    {
      "cell_type": "code",
      "metadata": {
        "colab": {
          "base_uri": "https://localhost:8080/",
          "height": 352
        },
        "id": "EHkmUB4OsbEH",
        "outputId": "5536fdca-0f58-4c9e-d907-681d378ec15c"
      },
      "source": [
        "sns.distplot(df.trip_duration)"
      ],
      "execution_count": 152,
      "outputs": [
        {
          "output_type": "stream",
          "name": "stderr",
          "text": [
            "/usr/local/lib/python3.7/dist-packages/seaborn/distributions.py:2619: FutureWarning: `distplot` is a deprecated function and will be removed in a future version. Please adapt your code to use either `displot` (a figure-level function with similar flexibility) or `histplot` (an axes-level function for histograms).\n",
            "  warnings.warn(msg, FutureWarning)\n"
          ]
        },
        {
          "output_type": "execute_result",
          "data": {
            "text/plain": [
              "<matplotlib.axes._subplots.AxesSubplot at 0x7f2d962ba310>"
            ]
          },
          "metadata": {},
          "execution_count": 152
        },
        {
          "output_type": "display_data",
          "data": {
            "image/png": "[encoded data removed]",
            "text/plain": [
              "<Figure size 432x288 with 1 Axes>"
            ]
          },
          "metadata": {
            "needs_background": "light"
          }
        }
      ]
    },
    {
      "cell_type": "code",
      "metadata": {
        "colab": {
          "base_uri": "https://localhost:8080/",
          "height": 344
        },
        "id": "n2JVEZr_7vqG",
        "outputId": "eb4a6ac3-c0d4-416e-feaa-62b03ded4e51"
      },
      "source": [
        "df.head()"
      ],
      "execution_count": 153,
      "outputs": [
        {
          "output_type": "execute_result",
          "data": {
            "text/html": [
              "<div>\n",
              "<style scoped>\n",
              "    .dataframe tbody tr th:only-of-type {\n",
              "        vertical-align: middle;\n",
              "    }\n",
              "\n",
              "    .dataframe tbody tr th {\n",
              "        vertical-align: top;\n",
              "    }\n",
              "\n",
              "    .dataframe thead th {\n",
              "        text-align: right;\n",
              "    }\n",
              "</style>\n",
              "<table border=\"1\" class=\"dataframe\">\n",
              "  <thead>\n",
              "    <tr style=\"text-align: right;\">\n",
              "      <th></th>\n",
              "      <th>vendor_id</th>\n",
              "      <th>pickup_datetime</th>\n",
              "      <th>dropoff_datetime</th>\n",
              "      <th>passenger_count</th>\n",
              "      <th>pickup_longitude</th>\n",
              "      <th>pickup_latitude</th>\n",
              "      <th>dropoff_longitude</th>\n",
              "      <th>dropoff_latitude</th>\n",
              "      <th>store_and_fwd_flag</th>\n",
              "      <th>trip_duration</th>\n",
              "      <th>pickup_year</th>\n",
              "      <th>pickup_month</th>\n",
              "      <th>pickup_day</th>\n",
              "      <th>pickup_hour</th>\n",
              "      <th>pickup_minute</th>\n",
              "      <th>pickup_second</th>\n",
              "      <th>pickup_dayname</th>\n",
              "      <th>distance</th>\n",
              "      <th>Velocity</th>\n",
              "    </tr>\n",
              "    <tr>\n",
              "      <th>id</th>\n",
              "      <th></th>\n",
              "      <th></th>\n",
              "      <th></th>\n",
              "      <th></th>\n",
              "      <th></th>\n",
              "      <th></th>\n",
              "      <th></th>\n",
              "      <th></th>\n",
              "      <th></th>\n",
              "      <th></th>\n",
              "      <th></th>\n",
              "      <th></th>\n",
              "      <th></th>\n",
              "      <th></th>\n",
              "      <th></th>\n",
              "      <th></th>\n",
              "      <th></th>\n",
              "      <th></th>\n",
              "      <th></th>\n",
              "    </tr>\n",
              "  </thead>\n",
              "  <tbody>\n",
              "    <tr>\n",
              "      <th>id2875421</th>\n",
              "      <td>2</td>\n",
              "      <td>2016-03-14 17:24:55</td>\n",
              "      <td>2016-03-14 17:32:30</td>\n",
              "      <td>1</td>\n",
              "      <td>-73.982155</td>\n",
              "      <td>40.767937</td>\n",
              "      <td>-73.964630</td>\n",
              "      <td>40.765602</td>\n",
              "      <td>N</td>\n",
              "      <td>0.126389</td>\n",
              "      <td>2016</td>\n",
              "      <td>3</td>\n",
              "      <td>14</td>\n",
              "      <td>17</td>\n",
              "      <td>24</td>\n",
              "      <td>55</td>\n",
              "      <td>Monday</td>\n",
              "      <td>1.498521</td>\n",
              "      <td>11.856428</td>\n",
              "    </tr>\n",
              "    <tr>\n",
              "      <th>id2377394</th>\n",
              "      <td>1</td>\n",
              "      <td>2016-06-12 00:43:35</td>\n",
              "      <td>2016-06-12 00:54:38</td>\n",
              "      <td>1</td>\n",
              "      <td>-73.980415</td>\n",
              "      <td>40.738564</td>\n",
              "      <td>-73.999481</td>\n",
              "      <td>40.731152</td>\n",
              "      <td>N</td>\n",
              "      <td>0.184167</td>\n",
              "      <td>2016</td>\n",
              "      <td>6</td>\n",
              "      <td>12</td>\n",
              "      <td>0</td>\n",
              "      <td>43</td>\n",
              "      <td>35</td>\n",
              "      <td>Sunday</td>\n",
              "      <td>1.805507</td>\n",
              "      <td>9.803659</td>\n",
              "    </tr>\n",
              "    <tr>\n",
              "      <th>id3858529</th>\n",
              "      <td>2</td>\n",
              "      <td>2016-01-19 11:35:24</td>\n",
              "      <td>2016-01-19 12:10:48</td>\n",
              "      <td>1</td>\n",
              "      <td>-73.979027</td>\n",
              "      <td>40.763939</td>\n",
              "      <td>-74.005333</td>\n",
              "      <td>40.710087</td>\n",
              "      <td>N</td>\n",
              "      <td>0.590000</td>\n",
              "      <td>2016</td>\n",
              "      <td>1</td>\n",
              "      <td>19</td>\n",
              "      <td>11</td>\n",
              "      <td>35</td>\n",
              "      <td>24</td>\n",
              "      <td>Tuesday</td>\n",
              "      <td>6.385098</td>\n",
              "      <td>10.822201</td>\n",
              "    </tr>\n",
              "    <tr>\n",
              "      <th>id3504673</th>\n",
              "      <td>2</td>\n",
              "      <td>2016-04-06 19:32:31</td>\n",
              "      <td>2016-04-06 19:39:40</td>\n",
              "      <td>1</td>\n",
              "      <td>-74.010040</td>\n",
              "      <td>40.719971</td>\n",
              "      <td>-74.012268</td>\n",
              "      <td>40.706718</td>\n",
              "      <td>N</td>\n",
              "      <td>0.119167</td>\n",
              "      <td>2016</td>\n",
              "      <td>4</td>\n",
              "      <td>6</td>\n",
              "      <td>19</td>\n",
              "      <td>32</td>\n",
              "      <td>31</td>\n",
              "      <td>Wednesday</td>\n",
              "      <td>1.485498</td>\n",
              "      <td>12.465721</td>\n",
              "    </tr>\n",
              "    <tr>\n",
              "      <th>id2181028</th>\n",
              "      <td>2</td>\n",
              "      <td>2016-03-26 13:30:55</td>\n",
              "      <td>2016-03-26 13:38:10</td>\n",
              "      <td>1</td>\n",
              "      <td>-73.973053</td>\n",
              "      <td>40.793209</td>\n",
              "      <td>-73.972923</td>\n",
              "      <td>40.782520</td>\n",
              "      <td>N</td>\n",
              "      <td>0.120833</td>\n",
              "      <td>2016</td>\n",
              "      <td>3</td>\n",
              "      <td>26</td>\n",
              "      <td>13</td>\n",
              "      <td>30</td>\n",
              "      <td>55</td>\n",
              "      <td>Saturday</td>\n",
              "      <td>1.188588</td>\n",
              "      <td>9.836594</td>\n",
              "    </tr>\n",
              "  </tbody>\n",
              "</table>\n",
              "</div>"
            ],
            "text/plain": [
              "           vendor_id     pickup_datetime  ...  distance   Velocity\n",
              "id                                        ...                     \n",
              "id2875421          2 2016-03-14 17:24:55  ...  1.498521  11.856428\n",
              "id2377394          1 2016-06-12 00:43:35  ...  1.805507   9.803659\n",
              "id3858529          2 2016-01-19 11:35:24  ...  6.385098  10.822201\n",
              "id3504673          2 2016-04-06 19:32:31  ...  1.485498  12.465721\n",
              "id2181028          2 2016-03-26 13:30:55  ...  1.188588   9.836594\n",
              "\n",
              "[5 rows x 19 columns]"
            ]
          },
          "metadata": {},
          "execution_count": 153
        }
      ]
    },
    {
      "cell_type": "code",
      "metadata": {
        "colab": {
          "base_uri": "https://localhost:8080/",
          "height": 237
        },
        "id": "6Hu1Rwlg7viR",
        "outputId": "62fa3e9f-1edb-47cb-d54d-b0e6028f1d07"
      },
      "source": [
        "months=df.pickup_month.value_counts().sort_index().reset_index()\n",
        "months['index'] = months['index'].map({1:'Jan',\n",
        "                             2:'Feb',\n",
        "                             3:'Mar',\n",
        "                             4:'Apr',\n",
        "                             5:'May',\n",
        "                             6:'Jun'},\n",
        "                             na_action=None)\n",
        "months"
      ],
      "execution_count": 172,
      "outputs": [
        {
          "output_type": "execute_result",
          "data": {
            "text/html": [
              "<div>\n",
              "<style scoped>\n",
              "    .dataframe tbody tr th:only-of-type {\n",
              "        vertical-align: middle;\n",
              "    }\n",
              "\n",
              "    .dataframe tbody tr th {\n",
              "        vertical-align: top;\n",
              "    }\n",
              "\n",
              "    .dataframe thead th {\n",
              "        text-align: right;\n",
              "    }\n",
              "</style>\n",
              "<table border=\"1\" class=\"dataframe\">\n",
              "  <thead>\n",
              "    <tr style=\"text-align: right;\">\n",
              "      <th></th>\n",
              "      <th>index</th>\n",
              "      <th>pickup_month</th>\n",
              "    </tr>\n",
              "  </thead>\n",
              "  <tbody>\n",
              "    <tr>\n",
              "      <th>0</th>\n",
              "      <td>Jan</td>\n",
              "      <td>229690</td>\n",
              "    </tr>\n",
              "    <tr>\n",
              "      <th>1</th>\n",
              "      <td>Feb</td>\n",
              "      <td>238286</td>\n",
              "    </tr>\n",
              "    <tr>\n",
              "      <th>2</th>\n",
              "      <td>Mar</td>\n",
              "      <td>256179</td>\n",
              "    </tr>\n",
              "    <tr>\n",
              "      <th>3</th>\n",
              "      <td>Apr</td>\n",
              "      <td>251636</td>\n",
              "    </tr>\n",
              "    <tr>\n",
              "      <th>4</th>\n",
              "      <td>May</td>\n",
              "      <td>248474</td>\n",
              "    </tr>\n",
              "    <tr>\n",
              "      <th>5</th>\n",
              "      <td>Jun</td>\n",
              "      <td>234310</td>\n",
              "    </tr>\n",
              "  </tbody>\n",
              "</table>\n",
              "</div>"
            ],
            "text/plain": [
              "  index  pickup_month\n",
              "0   Jan        229690\n",
              "1   Feb        238286\n",
              "2   Mar        256179\n",
              "3   Apr        251636\n",
              "4   May        248474\n",
              "5   Jun        234310"
            ]
          },
          "metadata": {},
          "execution_count": 172
        }
      ]
    },
    {
      "cell_type": "code",
      "metadata": {
        "colab": {
          "base_uri": "https://localhost:8080/",
          "height": 297
        },
        "id": "eODWMzv_-cSD",
        "outputId": "b19eebd6-1d27-4030-8199-f905930b1355"
      },
      "source": [
        "sns.barplot(x=months['index'],y=months['pickup_month'],palette='rocket') #deep, vlag, rocket"
      ],
      "execution_count": 173,
      "outputs": [
        {
          "output_type": "execute_result",
          "data": {
            "text/plain": [
              "<matplotlib.axes._subplots.AxesSubplot at 0x7f2d974debd0>"
            ]
          },
          "metadata": {},
          "execution_count": 173
        },
        {
          "output_type": "display_data",
          "data": {
            "image/png": "[encoded data removed]",
            "text/plain": [
              "<Figure size 432x288 with 1 Axes>"
            ]
          },
          "metadata": {
            "needs_background": "light"
          }
        }
      ]
    },
    {
      "cell_type": "markdown",
      "metadata": {
        "id": "osA4iyjOAzTl"
      },
      "source": [
        "### Weekday"
      ]
    },
    {
      "cell_type": "code",
      "metadata": {
        "colab": {
          "base_uri": "https://localhost:8080/",
          "height": 461
        },
        "id": "I5W-FX08APcU",
        "outputId": "624270a2-28e4-4a9b-a79e-13eb2bbb9ec2"
      },
      "source": [
        "plt.figure(figsize=(8,6))\n",
        "sns.countplot(df['pickup_dayname'])"
      ],
      "execution_count": 176,
      "outputs": [
        {
          "output_type": "stream",
          "name": "stderr",
          "text": [
            "/usr/local/lib/python3.7/dist-packages/seaborn/_decorators.py:43: FutureWarning: Pass the following variable as a keyword arg: x. From version 0.12, the only valid positional argument will be `data`, and passing other arguments without an explicit keyword will result in an error or misinterpretation.\n",
            "  FutureWarning\n"
          ]
        },
        {
          "output_type": "execute_result",
          "data": {
            "text/plain": [
              "<matplotlib.axes._subplots.AxesSubplot at 0x7f2d97f0bd50>"
            ]
          },
          "metadata": {},
          "execution_count": 176
        },
        {
          "output_type": "display_data",
          "data": {
            "image/png": "[encoded data removed]",
            "text/plain": [
              "<Figure size 576x432 with 1 Axes>"
            ]
          },
          "metadata": {
            "needs_background": "light"
          }
        }
      ]
    },
    {
      "cell_type": "markdown",
      "metadata": {
        "id": "riMVwQkBHhs7"
      },
      "source": [
        "## Month days"
      ]
    },
    {
      "cell_type": "code",
      "metadata": {
        "colab": {
          "base_uri": "https://localhost:8080/",
          "height": 461
        },
        "id": "RcdZFekBGsvp",
        "outputId": "38c93f1e-8493-45b7-e0c3-a441d6e75bcb"
      },
      "source": [
        "plt.figure(figsize=(10,6))\n",
        "sns.countplot(df.pickup_day)"
      ],
      "execution_count": 184,
      "outputs": [
        {
          "output_type": "stream",
          "name": "stderr",
          "text": [
            "/usr/local/lib/python3.7/dist-packages/seaborn/_decorators.py:43: FutureWarning: Pass the following variable as a keyword arg: x. From version 0.12, the only valid positional argument will be `data`, and passing other arguments without an explicit keyword will result in an error or misinterpretation.\n",
            "  FutureWarning\n"
          ]
        },
        {
          "output_type": "execute_result",
          "data": {
            "text/plain": [
              "<matplotlib.axes._subplots.AxesSubplot at 0x7f2d960f2750>"
            ]
          },
          "metadata": {},
          "execution_count": 184
        },
        {
          "output_type": "display_data",
          "data": {
            "image/png": "[encoded data removed]",
            "text/plain": [
              "<Figure size 720x432 with 1 Axes>"
            ]
          },
          "metadata": {
            "needs_background": "light"
          }
        }
      ]
    },
    {
      "cell_type": "markdown",
      "metadata": {
        "id": "arTUEG0aI5eI"
      },
      "source": [
        "### Trips according to hours"
      ]
    },
    {
      "cell_type": "code",
      "metadata": {
        "colab": {
          "base_uri": "https://localhost:8080/",
          "height": 461
        },
        "id": "oYGgZ0ZQI40l",
        "outputId": "3d28691b-7baa-4ecb-e967-42b4d74431ae"
      },
      "source": [
        "plt.figure(figsize=(10,6))\n",
        "sns.countplot(df.pickup_hour)"
      ],
      "execution_count": 186,
      "outputs": [
        {
          "output_type": "stream",
          "name": "stderr",
          "text": [
            "/usr/local/lib/python3.7/dist-packages/seaborn/_decorators.py:43: FutureWarning: Pass the following variable as a keyword arg: x. From version 0.12, the only valid positional argument will be `data`, and passing other arguments without an explicit keyword will result in an error or misinterpretation.\n",
            "  FutureWarning\n"
          ]
        },
        {
          "output_type": "execute_result",
          "data": {
            "text/plain": [
              "<matplotlib.axes._subplots.AxesSubplot at 0x7f2d963f72d0>"
            ]
          },
          "metadata": {},
          "execution_count": 186
        },
        {
          "output_type": "display_data",
          "data": {
            "image/png": "[encoded data removed]",
            "text/plain": [
              "<Figure size 720x432 with 1 Axes>"
            ]
          },
          "metadata": {
            "needs_background": "light"
          }
        }
      ]
    },
    {
      "cell_type": "markdown",
      "metadata": {
        "id": "-NEmwsWSJzpO"
      },
      "source": [
        "- There are more booking in evening"
      ]
    },
    {
      "cell_type": "code",
      "metadata": {
        "colab": {
          "base_uri": "https://localhost:8080/",
          "height": 351
        },
        "id": "YLe0cpAMLMPr",
        "outputId": "28c5b753-487e-410b-80f7-749ec6ed6b5d"
      },
      "source": [
        "sns.boxplot(df.Velocity)"
      ],
      "execution_count": 189,
      "outputs": [
        {
          "output_type": "stream",
          "name": "stderr",
          "text": [
            "/usr/local/lib/python3.7/dist-packages/seaborn/_decorators.py:43: FutureWarning: Pass the following variable as a keyword arg: x. From version 0.12, the only valid positional argument will be `data`, and passing other arguments without an explicit keyword will result in an error or misinterpretation.\n",
            "  FutureWarning\n"
          ]
        },
        {
          "output_type": "execute_result",
          "data": {
            "text/plain": [
              "<matplotlib.axes._subplots.AxesSubplot at 0x7f2dc2828d90>"
            ]
          },
          "metadata": {},
          "execution_count": 189
        },
        {
          "output_type": "display_data",
          "data": {
            "image/png": "[encoded data removed]",
            "text/plain": [
              "<Figure size 432x288 with 1 Axes>"
            ]
          },
          "metadata": {
            "needs_background": "light"
          }
        }
      ]
    },
    {
      "cell_type": "code",
      "metadata": {
        "colab": {
          "base_uri": "https://localhost:8080/",
          "height": 648
        },
        "id": "9cC8zm5hNWQb",
        "outputId": "79790de8-b0c0-4324-ea9b-f9e6745c6c23"
      },
      "source": [
        "df[df['Velocity']>100]"
      ],
      "execution_count": 191,
      "outputs": [
        {
          "output_type": "execute_result",
          "data": {
            "text/html": [
              "<div>\n",
              "<style scoped>\n",
              "    .dataframe tbody tr th:only-of-type {\n",
              "        vertical-align: middle;\n",
              "    }\n",
              "\n",
              "    .dataframe tbody tr th {\n",
              "        vertical-align: top;\n",
              "    }\n",
              "\n",
              "    .dataframe thead th {\n",
              "        text-align: right;\n",
              "    }\n",
              "</style>\n",
              "<table border=\"1\" class=\"dataframe\">\n",
              "  <thead>\n",
              "    <tr style=\"text-align: right;\">\n",
              "      <th></th>\n",
              "      <th>vendor_id</th>\n",
              "      <th>pickup_datetime</th>\n",
              "      <th>dropoff_datetime</th>\n",
              "      <th>passenger_count</th>\n",
              "      <th>pickup_longitude</th>\n",
              "      <th>pickup_latitude</th>\n",
              "      <th>dropoff_longitude</th>\n",
              "      <th>dropoff_latitude</th>\n",
              "      <th>store_and_fwd_flag</th>\n",
              "      <th>trip_duration</th>\n",
              "      <th>pickup_year</th>\n",
              "      <th>pickup_month</th>\n",
              "      <th>pickup_day</th>\n",
              "      <th>pickup_hour</th>\n",
              "      <th>pickup_minute</th>\n",
              "      <th>pickup_second</th>\n",
              "      <th>pickup_dayname</th>\n",
              "      <th>distance</th>\n",
              "      <th>Velocity</th>\n",
              "    </tr>\n",
              "    <tr>\n",
              "      <th>id</th>\n",
              "      <th></th>\n",
              "      <th></th>\n",
              "      <th></th>\n",
              "      <th></th>\n",
              "      <th></th>\n",
              "      <th></th>\n",
              "      <th></th>\n",
              "      <th></th>\n",
              "      <th></th>\n",
              "      <th></th>\n",
              "      <th></th>\n",
              "      <th></th>\n",
              "      <th></th>\n",
              "      <th></th>\n",
              "      <th></th>\n",
              "      <th></th>\n",
              "      <th></th>\n",
              "      <th></th>\n",
              "      <th></th>\n",
              "    </tr>\n",
              "  </thead>\n",
              "  <tbody>\n",
              "    <tr>\n",
              "      <th>id0729156</th>\n",
              "      <td>2</td>\n",
              "      <td>2016-06-23 13:36:48</td>\n",
              "      <td>2016-06-23 13:36:50</td>\n",
              "      <td>3</td>\n",
              "      <td>-73.827660</td>\n",
              "      <td>40.716175</td>\n",
              "      <td>-73.822113</td>\n",
              "      <td>40.711452</td>\n",
              "      <td>N</td>\n",
              "      <td>0.000556</td>\n",
              "      <td>2016</td>\n",
              "      <td>6</td>\n",
              "      <td>23</td>\n",
              "      <td>13</td>\n",
              "      <td>36</td>\n",
              "      <td>48</td>\n",
              "      <td>Thursday</td>\n",
              "      <td>0.703065</td>\n",
              "      <td>1265.516683</td>\n",
              "    </tr>\n",
              "    <tr>\n",
              "      <th>id0995203</th>\n",
              "      <td>2</td>\n",
              "      <td>2016-05-15 18:31:33</td>\n",
              "      <td>2016-05-15 18:31:59</td>\n",
              "      <td>5</td>\n",
              "      <td>-73.791206</td>\n",
              "      <td>40.666481</td>\n",
              "      <td>-73.800903</td>\n",
              "      <td>40.669819</td>\n",
              "      <td>N</td>\n",
              "      <td>0.007222</td>\n",
              "      <td>2016</td>\n",
              "      <td>5</td>\n",
              "      <td>15</td>\n",
              "      <td>18</td>\n",
              "      <td>31</td>\n",
              "      <td>33</td>\n",
              "      <td>Sunday</td>\n",
              "      <td>0.898129</td>\n",
              "      <td>124.356287</td>\n",
              "    </tr>\n",
              "    <tr>\n",
              "      <th>id3468323</th>\n",
              "      <td>1</td>\n",
              "      <td>2016-06-27 18:37:21</td>\n",
              "      <td>2016-06-27 18:43:16</td>\n",
              "      <td>1</td>\n",
              "      <td>-73.881195</td>\n",
              "      <td>40.882942</td>\n",
              "      <td>-73.965141</td>\n",
              "      <td>40.762486</td>\n",
              "      <td>N</td>\n",
              "      <td>0.098611</td>\n",
              "      <td>2016</td>\n",
              "      <td>6</td>\n",
              "      <td>27</td>\n",
              "      <td>18</td>\n",
              "      <td>37</td>\n",
              "      <td>21</td>\n",
              "      <td>Monday</td>\n",
              "      <td>15.142631</td>\n",
              "      <td>153.559078</td>\n",
              "    </tr>\n",
              "    <tr>\n",
              "      <th>id1623366</th>\n",
              "      <td>2</td>\n",
              "      <td>2016-05-27 23:00:28</td>\n",
              "      <td>2016-05-27 23:00:35</td>\n",
              "      <td>1</td>\n",
              "      <td>-73.975571</td>\n",
              "      <td>40.762367</td>\n",
              "      <td>-73.977898</td>\n",
              "      <td>40.763184</td>\n",
              "      <td>N</td>\n",
              "      <td>0.001944</td>\n",
              "      <td>2016</td>\n",
              "      <td>5</td>\n",
              "      <td>27</td>\n",
              "      <td>23</td>\n",
              "      <td>0</td>\n",
              "      <td>28</td>\n",
              "      <td>Friday</td>\n",
              "      <td>0.215981</td>\n",
              "      <td>111.076074</td>\n",
              "    </tr>\n",
              "    <tr>\n",
              "      <th>id1957624</th>\n",
              "      <td>2</td>\n",
              "      <td>2016-03-27 16:28:42</td>\n",
              "      <td>2016-03-27 16:32:25</td>\n",
              "      <td>1</td>\n",
              "      <td>-74.069908</td>\n",
              "      <td>40.739052</td>\n",
              "      <td>-74.157913</td>\n",
              "      <td>40.712528</td>\n",
              "      <td>N</td>\n",
              "      <td>0.061944</td>\n",
              "      <td>2016</td>\n",
              "      <td>3</td>\n",
              "      <td>27</td>\n",
              "      <td>16</td>\n",
              "      <td>28</td>\n",
              "      <td>42</td>\n",
              "      <td>Sunday</td>\n",
              "      <td>7.980951</td>\n",
              "      <td>128.840458</td>\n",
              "    </tr>\n",
              "    <tr>\n",
              "      <th>...</th>\n",
              "      <td>...</td>\n",
              "      <td>...</td>\n",
              "      <td>...</td>\n",
              "      <td>...</td>\n",
              "      <td>...</td>\n",
              "      <td>...</td>\n",
              "      <td>...</td>\n",
              "      <td>...</td>\n",
              "      <td>...</td>\n",
              "      <td>...</td>\n",
              "      <td>...</td>\n",
              "      <td>...</td>\n",
              "      <td>...</td>\n",
              "      <td>...</td>\n",
              "      <td>...</td>\n",
              "      <td>...</td>\n",
              "      <td>...</td>\n",
              "      <td>...</td>\n",
              "      <td>...</td>\n",
              "    </tr>\n",
              "    <tr>\n",
              "      <th>id2905190</th>\n",
              "      <td>2</td>\n",
              "      <td>2016-03-05 00:17:29</td>\n",
              "      <td>2016-03-05 00:17:32</td>\n",
              "      <td>1</td>\n",
              "      <td>-74.003487</td>\n",
              "      <td>40.732609</td>\n",
              "      <td>-74.004189</td>\n",
              "      <td>40.731274</td>\n",
              "      <td>N</td>\n",
              "      <td>0.000833</td>\n",
              "      <td>2016</td>\n",
              "      <td>3</td>\n",
              "      <td>5</td>\n",
              "      <td>0</td>\n",
              "      <td>17</td>\n",
              "      <td>29</td>\n",
              "      <td>Saturday</td>\n",
              "      <td>0.159808</td>\n",
              "      <td>191.769583</td>\n",
              "    </tr>\n",
              "    <tr>\n",
              "      <th>id1367936</th>\n",
              "      <td>2</td>\n",
              "      <td>2016-06-05 00:38:28</td>\n",
              "      <td>2016-06-05 00:38:31</td>\n",
              "      <td>1</td>\n",
              "      <td>-73.978363</td>\n",
              "      <td>40.729126</td>\n",
              "      <td>-73.978760</td>\n",
              "      <td>40.728424</td>\n",
              "      <td>N</td>\n",
              "      <td>0.000833</td>\n",
              "      <td>2016</td>\n",
              "      <td>6</td>\n",
              "      <td>5</td>\n",
              "      <td>0</td>\n",
              "      <td>38</td>\n",
              "      <td>28</td>\n",
              "      <td>Sunday</td>\n",
              "      <td>0.084906</td>\n",
              "      <td>101.887621</td>\n",
              "    </tr>\n",
              "    <tr>\n",
              "      <th>id1520147</th>\n",
              "      <td>2</td>\n",
              "      <td>2016-02-15 08:42:29</td>\n",
              "      <td>2016-02-15 08:42:35</td>\n",
              "      <td>2</td>\n",
              "      <td>-73.953590</td>\n",
              "      <td>40.806183</td>\n",
              "      <td>-73.955643</td>\n",
              "      <td>40.806698</td>\n",
              "      <td>N</td>\n",
              "      <td>0.001667</td>\n",
              "      <td>2016</td>\n",
              "      <td>2</td>\n",
              "      <td>15</td>\n",
              "      <td>8</td>\n",
              "      <td>42</td>\n",
              "      <td>29</td>\n",
              "      <td>Monday</td>\n",
              "      <td>0.181979</td>\n",
              "      <td>109.187161</td>\n",
              "    </tr>\n",
              "    <tr>\n",
              "      <th>id2943073</th>\n",
              "      <td>2</td>\n",
              "      <td>2016-01-03 16:55:44</td>\n",
              "      <td>2016-01-03 16:55:45</td>\n",
              "      <td>1</td>\n",
              "      <td>-73.975677</td>\n",
              "      <td>40.785488</td>\n",
              "      <td>-73.976372</td>\n",
              "      <td>40.785831</td>\n",
              "      <td>N</td>\n",
              "      <td>0.000278</td>\n",
              "      <td>2016</td>\n",
              "      <td>1</td>\n",
              "      <td>3</td>\n",
              "      <td>16</td>\n",
              "      <td>55</td>\n",
              "      <td>44</td>\n",
              "      <td>Sunday</td>\n",
              "      <td>0.069815</td>\n",
              "      <td>251.332745</td>\n",
              "    </tr>\n",
              "    <tr>\n",
              "      <th>id2041773</th>\n",
              "      <td>2</td>\n",
              "      <td>2016-01-27 00:06:20</td>\n",
              "      <td>2016-01-27 00:06:23</td>\n",
              "      <td>1</td>\n",
              "      <td>-73.789513</td>\n",
              "      <td>40.643429</td>\n",
              "      <td>-73.788971</td>\n",
              "      <td>40.642750</td>\n",
              "      <td>N</td>\n",
              "      <td>0.000833</td>\n",
              "      <td>2016</td>\n",
              "      <td>1</td>\n",
              "      <td>27</td>\n",
              "      <td>0</td>\n",
              "      <td>6</td>\n",
              "      <td>20</td>\n",
              "      <td>Wednesday</td>\n",
              "      <td>0.088258</td>\n",
              "      <td>105.910062</td>\n",
              "    </tr>\n",
              "  </tbody>\n",
              "</table>\n",
              "<p>173 rows × 19 columns</p>\n",
              "</div>"
            ],
            "text/plain": [
              "           vendor_id     pickup_datetime  ...   distance     Velocity\n",
              "id                                        ...                        \n",
              "id0729156          2 2016-06-23 13:36:48  ...   0.703065  1265.516683\n",
              "id0995203          2 2016-05-15 18:31:33  ...   0.898129   124.356287\n",
              "id3468323          1 2016-06-27 18:37:21  ...  15.142631   153.559078\n",
              "id1623366          2 2016-05-27 23:00:28  ...   0.215981   111.076074\n",
              "id1957624          2 2016-03-27 16:28:42  ...   7.980951   128.840458\n",
              "...              ...                 ...  ...        ...          ...\n",
              "id2905190          2 2016-03-05 00:17:29  ...   0.159808   191.769583\n",
              "id1367936          2 2016-06-05 00:38:28  ...   0.084906   101.887621\n",
              "id1520147          2 2016-02-15 08:42:29  ...   0.181979   109.187161\n",
              "id2943073          2 2016-01-03 16:55:44  ...   0.069815   251.332745\n",
              "id2041773          2 2016-01-27 00:06:20  ...   0.088258   105.910062\n",
              "\n",
              "[173 rows x 19 columns]"
            ]
          },
          "metadata": {},
          "execution_count": 191
        }
      ]
    },
    {
      "cell_type": "markdown",
      "metadata": {
        "id": "kj4wjqSoLLtd"
      },
      "source": [
        ""
      ]
    },
    {
      "cell_type": "code",
      "metadata": {
        "colab": {
          "base_uri": "https://localhost:8080/"
        },
        "id": "KDRTdEKyBpIS",
        "outputId": "7858d63e-b790-433d-d895-62722174a7c3"
      },
      "source": [
        "df.distance.value_counts()"
      ],
      "execution_count": 177,
      "outputs": [
        {
          "output_type": "execute_result",
          "data": {
            "text/plain": [
              "0.000000    5887\n",
              "0.000424     137\n",
              "0.000848      62\n",
              "0.000424      50\n",
              "0.001273      42\n",
              "            ... \n",
              "1.259793       1\n",
              "1.426920       1\n",
              "2.159095       1\n",
              "2.722239       1\n",
              "2.425337       1\n",
              "Name: distance, Length: 1452220, dtype: int64"
            ]
          },
          "metadata": {},
          "execution_count": 177
        }
      ]
    },
    {
      "cell_type": "code",
      "metadata": {
        "colab": {
          "base_uri": "https://localhost:8080/",
          "height": 351
        },
        "id": "pZpgRx69C9HG",
        "outputId": "7b63eb5d-2b4a-465c-a2e4-cf0494b792bd"
      },
      "source": [
        "sns.boxplot(df.distance)"
      ],
      "execution_count": 178,
      "outputs": [
        {
          "output_type": "stream",
          "name": "stderr",
          "text": [
            "/usr/local/lib/python3.7/dist-packages/seaborn/_decorators.py:43: FutureWarning: Pass the following variable as a keyword arg: x. From version 0.12, the only valid positional argument will be `data`, and passing other arguments without an explicit keyword will result in an error or misinterpretation.\n",
            "  FutureWarning\n"
          ]
        },
        {
          "output_type": "execute_result",
          "data": {
            "text/plain": [
              "<matplotlib.axes._subplots.AxesSubplot at 0x7f2d9b3c8250>"
            ]
          },
          "metadata": {},
          "execution_count": 178
        },
        {
          "output_type": "display_data",
          "data": {
            "image/png": "[encoded data removed]",
            "text/plain": [
              "<Figure size 432x288 with 1 Axes>"
            ]
          },
          "metadata": {
            "needs_background": "light"
          }
        }
      ]
    },
    {
      "cell_type": "code",
      "metadata": {
        "colab": {
          "base_uri": "https://localhost:8080/",
          "height": 1000
        },
        "id": "lr1FJFTXDJAh",
        "outputId": "98fdfe50-c672-4ee3-b16a-90d2a48d93b6"
      },
      "source": [
        "df[df['distance']>100]   # Newyork city area - 778.2 km2"
      ],
      "execution_count": 192,
      "outputs": [
        {
          "output_type": "execute_result",
          "data": {
            "text/html": [
              "<div>\n",
              "<style scoped>\n",
              "    .dataframe tbody tr th:only-of-type {\n",
              "        vertical-align: middle;\n",
              "    }\n",
              "\n",
              "    .dataframe tbody tr th {\n",
              "        vertical-align: top;\n",
              "    }\n",
              "\n",
              "    .dataframe thead th {\n",
              "        text-align: right;\n",
              "    }\n",
              "</style>\n",
              "<table border=\"1\" class=\"dataframe\">\n",
              "  <thead>\n",
              "    <tr style=\"text-align: right;\">\n",
              "      <th></th>\n",
              "      <th>vendor_id</th>\n",
              "      <th>pickup_datetime</th>\n",
              "      <th>dropoff_datetime</th>\n",
              "      <th>passenger_count</th>\n",
              "      <th>pickup_longitude</th>\n",
              "      <th>pickup_latitude</th>\n",
              "      <th>dropoff_longitude</th>\n",
              "      <th>dropoff_latitude</th>\n",
              "      <th>store_and_fwd_flag</th>\n",
              "      <th>trip_duration</th>\n",
              "      <th>pickup_year</th>\n",
              "      <th>pickup_month</th>\n",
              "      <th>pickup_day</th>\n",
              "      <th>pickup_hour</th>\n",
              "      <th>pickup_minute</th>\n",
              "      <th>pickup_second</th>\n",
              "      <th>pickup_dayname</th>\n",
              "      <th>distance</th>\n",
              "      <th>Velocity</th>\n",
              "    </tr>\n",
              "    <tr>\n",
              "      <th>id</th>\n",
              "      <th></th>\n",
              "      <th></th>\n",
              "      <th></th>\n",
              "      <th></th>\n",
              "      <th></th>\n",
              "      <th></th>\n",
              "      <th></th>\n",
              "      <th></th>\n",
              "      <th></th>\n",
              "      <th></th>\n",
              "      <th></th>\n",
              "      <th></th>\n",
              "      <th></th>\n",
              "      <th></th>\n",
              "      <th></th>\n",
              "      <th></th>\n",
              "      <th></th>\n",
              "      <th></th>\n",
              "      <th></th>\n",
              "    </tr>\n",
              "  </thead>\n",
              "  <tbody>\n",
              "    <tr>\n",
              "      <th>id1092161</th>\n",
              "      <td>1</td>\n",
              "      <td>2016-04-15 22:35:08</td>\n",
              "      <td>2016-04-16 00:34:21</td>\n",
              "      <td>1</td>\n",
              "      <td>-73.781792</td>\n",
              "      <td>40.644718</td>\n",
              "      <td>-72.711395</td>\n",
              "      <td>41.311520</td>\n",
              "      <td>N</td>\n",
              "      <td>1.986944</td>\n",
              "      <td>2016</td>\n",
              "      <td>4</td>\n",
              "      <td>15</td>\n",
              "      <td>22</td>\n",
              "      <td>35</td>\n",
              "      <td>8</td>\n",
              "      <td>Friday</td>\n",
              "      <td>116.496424</td>\n",
              "      <td>58.630942</td>\n",
              "    </tr>\n",
              "    <tr>\n",
              "      <th>id1311087</th>\n",
              "      <td>1</td>\n",
              "      <td>2016-02-29 12:16:29</td>\n",
              "      <td>2016-02-29 18:47:09</td>\n",
              "      <td>3</td>\n",
              "      <td>-75.455917</td>\n",
              "      <td>39.803932</td>\n",
              "      <td>-73.796021</td>\n",
              "      <td>40.707726</td>\n",
              "      <td>N</td>\n",
              "      <td>6.511111</td>\n",
              "      <td>2016</td>\n",
              "      <td>2</td>\n",
              "      <td>29</td>\n",
              "      <td>12</td>\n",
              "      <td>16</td>\n",
              "      <td>29</td>\n",
              "      <td>Monday</td>\n",
              "      <td>173.029358</td>\n",
              "      <td>26.574475</td>\n",
              "    </tr>\n",
              "    <tr>\n",
              "      <th>id2306955</th>\n",
              "      <td>1</td>\n",
              "      <td>2016-05-07 18:58:53</td>\n",
              "      <td>2016-05-07 19:12:05</td>\n",
              "      <td>1</td>\n",
              "      <td>-72.809669</td>\n",
              "      <td>51.881084</td>\n",
              "      <td>-73.987228</td>\n",
              "      <td>40.750599</td>\n",
              "      <td>N</td>\n",
              "      <td>0.220000</td>\n",
              "      <td>2016</td>\n",
              "      <td>5</td>\n",
              "      <td>7</td>\n",
              "      <td>18</td>\n",
              "      <td>58</td>\n",
              "      <td>53</td>\n",
              "      <td>Saturday</td>\n",
              "      <td>1240.908677</td>\n",
              "      <td>5640.493985</td>\n",
              "    </tr>\n",
              "    <tr>\n",
              "      <th>id0978162</th>\n",
              "      <td>1</td>\n",
              "      <td>2016-02-24 16:20:59</td>\n",
              "      <td>2016-02-24 16:35:34</td>\n",
              "      <td>4</td>\n",
              "      <td>-75.354332</td>\n",
              "      <td>34.712234</td>\n",
              "      <td>-73.834923</td>\n",
              "      <td>32.181141</td>\n",
              "      <td>N</td>\n",
              "      <td>0.243056</td>\n",
              "      <td>2016</td>\n",
              "      <td>2</td>\n",
              "      <td>24</td>\n",
              "      <td>16</td>\n",
              "      <td>20</td>\n",
              "      <td>59</td>\n",
              "      <td>Wednesday</td>\n",
              "      <td>314.764203</td>\n",
              "      <td>1295.029865</td>\n",
              "    </tr>\n",
              "    <tr>\n",
              "      <th>id2778014</th>\n",
              "      <td>2</td>\n",
              "      <td>2016-01-17 16:43:09</td>\n",
              "      <td>2016-01-17 16:50:16</td>\n",
              "      <td>1</td>\n",
              "      <td>-73.997086</td>\n",
              "      <td>40.728924</td>\n",
              "      <td>-72.671150</td>\n",
              "      <td>40.614220</td>\n",
              "      <td>N</td>\n",
              "      <td>0.118611</td>\n",
              "      <td>2016</td>\n",
              "      <td>1</td>\n",
              "      <td>17</td>\n",
              "      <td>16</td>\n",
              "      <td>43</td>\n",
              "      <td>9</td>\n",
              "      <td>Sunday</td>\n",
              "      <td>112.548872</td>\n",
              "      <td>948.889784</td>\n",
              "    </tr>\n",
              "    <tr>\n",
              "      <th>id0116374</th>\n",
              "      <td>1</td>\n",
              "      <td>2016-04-02 20:33:19</td>\n",
              "      <td>2016-04-02 20:38:01</td>\n",
              "      <td>1</td>\n",
              "      <td>-74.007095</td>\n",
              "      <td>40.717113</td>\n",
              "      <td>-76.963242</td>\n",
              "      <td>38.946033</td>\n",
              "      <td>N</td>\n",
              "      <td>0.078333</td>\n",
              "      <td>2016</td>\n",
              "      <td>4</td>\n",
              "      <td>2</td>\n",
              "      <td>20</td>\n",
              "      <td>33</td>\n",
              "      <td>19</td>\n",
              "      <td>Saturday</td>\n",
              "      <td>320.125775</td>\n",
              "      <td>4086.712020</td>\n",
              "    </tr>\n",
              "    <tr>\n",
              "      <th>id0982904</th>\n",
              "      <td>1</td>\n",
              "      <td>2016-04-28 13:32:14</td>\n",
              "      <td>2016-04-28 14:14:09</td>\n",
              "      <td>2</td>\n",
              "      <td>-73.870682</td>\n",
              "      <td>40.773598</td>\n",
              "      <td>-79.817978</td>\n",
              "      <td>38.963852</td>\n",
              "      <td>N</td>\n",
              "      <td>0.698611</td>\n",
              "      <td>2016</td>\n",
              "      <td>4</td>\n",
              "      <td>28</td>\n",
              "      <td>13</td>\n",
              "      <td>32</td>\n",
              "      <td>14</td>\n",
              "      <td>Thursday</td>\n",
              "      <td>545.853499</td>\n",
              "      <td>781.340992</td>\n",
              "    </tr>\n",
              "    <tr>\n",
              "      <th>id2066082</th>\n",
              "      <td>1</td>\n",
              "      <td>2016-01-25 23:53:17</td>\n",
              "      <td>2016-01-26 01:25:46</td>\n",
              "      <td>1</td>\n",
              "      <td>-73.877716</td>\n",
              "      <td>40.772167</td>\n",
              "      <td>-72.905891</td>\n",
              "      <td>41.319832</td>\n",
              "      <td>N</td>\n",
              "      <td>1.541389</td>\n",
              "      <td>2016</td>\n",
              "      <td>1</td>\n",
              "      <td>25</td>\n",
              "      <td>23</td>\n",
              "      <td>53</td>\n",
              "      <td>17</td>\n",
              "      <td>Monday</td>\n",
              "      <td>101.736296</td>\n",
              "      <td>66.003003</td>\n",
              "    </tr>\n",
              "    <tr>\n",
              "      <th>id1723416</th>\n",
              "      <td>1</td>\n",
              "      <td>2016-03-20 21:07:56</td>\n",
              "      <td>2016-03-20 21:12:35</td>\n",
              "      <td>1</td>\n",
              "      <td>-78.547401</td>\n",
              "      <td>40.817131</td>\n",
              "      <td>-79.786133</td>\n",
              "      <td>40.917637</td>\n",
              "      <td>N</td>\n",
              "      <td>0.077500</td>\n",
              "      <td>2016</td>\n",
              "      <td>3</td>\n",
              "      <td>20</td>\n",
              "      <td>21</td>\n",
              "      <td>7</td>\n",
              "      <td>56</td>\n",
              "      <td>Sunday</td>\n",
              "      <td>104.759971</td>\n",
              "      <td>1351.741558</td>\n",
              "    </tr>\n",
              "    <tr>\n",
              "      <th>id0401529</th>\n",
              "      <td>2</td>\n",
              "      <td>2016-06-02 15:19:35</td>\n",
              "      <td>2016-06-02 15:32:59</td>\n",
              "      <td>1</td>\n",
              "      <td>-73.980751</td>\n",
              "      <td>40.757111</td>\n",
              "      <td>-74.240051</td>\n",
              "      <td>38.478298</td>\n",
              "      <td>N</td>\n",
              "      <td>0.223333</td>\n",
              "      <td>2016</td>\n",
              "      <td>6</td>\n",
              "      <td>2</td>\n",
              "      <td>15</td>\n",
              "      <td>19</td>\n",
              "      <td>35</td>\n",
              "      <td>Thursday</td>\n",
              "      <td>254.363523</td>\n",
              "      <td>1138.941146</td>\n",
              "    </tr>\n",
              "    <tr>\n",
              "      <th>id1146400</th>\n",
              "      <td>1</td>\n",
              "      <td>2016-02-15 18:57:32</td>\n",
              "      <td>2016-02-15 19:02:35</td>\n",
              "      <td>2</td>\n",
              "      <td>-73.989914</td>\n",
              "      <td>40.756634</td>\n",
              "      <td>-70.346077</td>\n",
              "      <td>36.398121</td>\n",
              "      <td>N</td>\n",
              "      <td>0.084167</td>\n",
              "      <td>2016</td>\n",
              "      <td>2</td>\n",
              "      <td>15</td>\n",
              "      <td>18</td>\n",
              "      <td>57</td>\n",
              "      <td>32</td>\n",
              "      <td>Monday</td>\n",
              "      <td>578.842818</td>\n",
              "      <td>6877.340406</td>\n",
              "    </tr>\n",
              "    <tr>\n",
              "      <th>id1001696</th>\n",
              "      <td>1</td>\n",
              "      <td>2016-02-24 21:02:32</td>\n",
              "      <td>2016-02-24 21:25:57</td>\n",
              "      <td>1</td>\n",
              "      <td>-73.972366</td>\n",
              "      <td>40.758633</td>\n",
              "      <td>-79.553535</td>\n",
              "      <td>43.674000</td>\n",
              "      <td>N</td>\n",
              "      <td>0.390278</td>\n",
              "      <td>2016</td>\n",
              "      <td>2</td>\n",
              "      <td>24</td>\n",
              "      <td>21</td>\n",
              "      <td>2</td>\n",
              "      <td>32</td>\n",
              "      <td>Wednesday</td>\n",
              "      <td>562.235188</td>\n",
              "      <td>1440.602617</td>\n",
              "    </tr>\n",
              "    <tr>\n",
              "      <th>id1510552</th>\n",
              "      <td>2</td>\n",
              "      <td>2016-01-06 20:40:52</td>\n",
              "      <td>2016-01-06 20:51:03</td>\n",
              "      <td>5</td>\n",
              "      <td>-71.799896</td>\n",
              "      <td>35.081532</td>\n",
              "      <td>-79.352837</td>\n",
              "      <td>40.436329</td>\n",
              "      <td>N</td>\n",
              "      <td>0.169722</td>\n",
              "      <td>2016</td>\n",
              "      <td>1</td>\n",
              "      <td>6</td>\n",
              "      <td>20</td>\n",
              "      <td>40</td>\n",
              "      <td>52</td>\n",
              "      <td>Wednesday</td>\n",
              "      <td>891.214103</td>\n",
              "      <td>5251.015993</td>\n",
              "    </tr>\n",
              "    <tr>\n",
              "      <th>id0687776</th>\n",
              "      <td>2</td>\n",
              "      <td>2016-04-28 20:22:43</td>\n",
              "      <td>2016-04-28 22:01:25</td>\n",
              "      <td>1</td>\n",
              "      <td>-73.991928</td>\n",
              "      <td>40.751034</td>\n",
              "      <td>-72.912292</td>\n",
              "      <td>41.388992</td>\n",
              "      <td>N</td>\n",
              "      <td>1.645000</td>\n",
              "      <td>2016</td>\n",
              "      <td>4</td>\n",
              "      <td>28</td>\n",
              "      <td>20</td>\n",
              "      <td>22</td>\n",
              "      <td>43</td>\n",
              "      <td>Thursday</td>\n",
              "      <td>114.992275</td>\n",
              "      <td>69.904119</td>\n",
              "    </tr>\n",
              "    <tr>\n",
              "      <th>id3626673</th>\n",
              "      <td>1</td>\n",
              "      <td>2016-05-05 18:02:50</td>\n",
              "      <td>2016-05-05 18:18:23</td>\n",
              "      <td>1</td>\n",
              "      <td>-73.978912</td>\n",
              "      <td>40.756763</td>\n",
              "      <td>-79.338699</td>\n",
              "      <td>41.427902</td>\n",
              "      <td>N</td>\n",
              "      <td>0.259167</td>\n",
              "      <td>2016</td>\n",
              "      <td>5</td>\n",
              "      <td>5</td>\n",
              "      <td>18</td>\n",
              "      <td>2</td>\n",
              "      <td>50</td>\n",
              "      <td>Thursday</td>\n",
              "      <td>455.241204</td>\n",
              "      <td>1756.557702</td>\n",
              "    </tr>\n",
              "    <tr>\n",
              "      <th>id0838705</th>\n",
              "      <td>1</td>\n",
              "      <td>2016-02-26 19:50:03</td>\n",
              "      <td>2016-02-26 20:08:54</td>\n",
              "      <td>1</td>\n",
              "      <td>-66.972160</td>\n",
              "      <td>44.371944</td>\n",
              "      <td>-69.048019</td>\n",
              "      <td>43.147583</td>\n",
              "      <td>N</td>\n",
              "      <td>0.314167</td>\n",
              "      <td>2016</td>\n",
              "      <td>2</td>\n",
              "      <td>26</td>\n",
              "      <td>19</td>\n",
              "      <td>50</td>\n",
              "      <td>3</td>\n",
              "      <td>Friday</td>\n",
              "      <td>215.226573</td>\n",
              "      <td>685.071318</td>\n",
              "    </tr>\n",
              "    <tr>\n",
              "      <th>id2644780</th>\n",
              "      <td>1</td>\n",
              "      <td>2016-05-03 16:24:07</td>\n",
              "      <td>2016-05-03 17:18:34</td>\n",
              "      <td>2</td>\n",
              "      <td>-73.991325</td>\n",
              "      <td>40.750023</td>\n",
              "      <td>-79.518616</td>\n",
              "      <td>43.921028</td>\n",
              "      <td>N</td>\n",
              "      <td>0.907500</td>\n",
              "      <td>2016</td>\n",
              "      <td>5</td>\n",
              "      <td>3</td>\n",
              "      <td>16</td>\n",
              "      <td>24</td>\n",
              "      <td>7</td>\n",
              "      <td>Tuesday</td>\n",
              "      <td>574.875442</td>\n",
              "      <td>633.471562</td>\n",
              "    </tr>\n",
              "    <tr>\n",
              "      <th>id1216866</th>\n",
              "      <td>1</td>\n",
              "      <td>2016-03-26 22:01:54</td>\n",
              "      <td>2016-03-27 00:47:16</td>\n",
              "      <td>1</td>\n",
              "      <td>-73.981491</td>\n",
              "      <td>40.773251</td>\n",
              "      <td>-76.135719</td>\n",
              "      <td>40.243626</td>\n",
              "      <td>N</td>\n",
              "      <td>2.756111</td>\n",
              "      <td>2016</td>\n",
              "      <td>3</td>\n",
              "      <td>26</td>\n",
              "      <td>22</td>\n",
              "      <td>1</td>\n",
              "      <td>54</td>\n",
              "      <td>Saturday</td>\n",
              "      <td>191.402792</td>\n",
              "      <td>69.446689</td>\n",
              "    </tr>\n",
              "    <tr>\n",
              "      <th>id3795134</th>\n",
              "      <td>1</td>\n",
              "      <td>2016-03-21 20:54:00</td>\n",
              "      <td>2016-03-22 01:43:23</td>\n",
              "      <td>3</td>\n",
              "      <td>-75.238327</td>\n",
              "      <td>39.923027</td>\n",
              "      <td>-73.922577</td>\n",
              "      <td>40.610130</td>\n",
              "      <td>N</td>\n",
              "      <td>4.823056</td>\n",
              "      <td>2016</td>\n",
              "      <td>3</td>\n",
              "      <td>21</td>\n",
              "      <td>20</td>\n",
              "      <td>54</td>\n",
              "      <td>0</td>\n",
              "      <td>Monday</td>\n",
              "      <td>135.275586</td>\n",
              "      <td>28.047694</td>\n",
              "    </tr>\n",
              "  </tbody>\n",
              "</table>\n",
              "</div>"
            ],
            "text/plain": [
              "           vendor_id     pickup_datetime  ...     distance     Velocity\n",
              "id                                        ...                          \n",
              "id1092161          1 2016-04-15 22:35:08  ...   116.496424    58.630942\n",
              "id1311087          1 2016-02-29 12:16:29  ...   173.029358    26.574475\n",
              "id2306955          1 2016-05-07 18:58:53  ...  1240.908677  5640.493985\n",
              "id0978162          1 2016-02-24 16:20:59  ...   314.764203  1295.029865\n",
              "id2778014          2 2016-01-17 16:43:09  ...   112.548872   948.889784\n",
              "id0116374          1 2016-04-02 20:33:19  ...   320.125775  4086.712020\n",
              "id0982904          1 2016-04-28 13:32:14  ...   545.853499   781.340992\n",
              "id2066082          1 2016-01-25 23:53:17  ...   101.736296    66.003003\n",
              "id1723416          1 2016-03-20 21:07:56  ...   104.759971  1351.741558\n",
              "id0401529          2 2016-06-02 15:19:35  ...   254.363523  1138.941146\n",
              "id1146400          1 2016-02-15 18:57:32  ...   578.842818  6877.340406\n",
              "id1001696          1 2016-02-24 21:02:32  ...   562.235188  1440.602617\n",
              "id1510552          2 2016-01-06 20:40:52  ...   891.214103  5251.015993\n",
              "id0687776          2 2016-04-28 20:22:43  ...   114.992275    69.904119\n",
              "id3626673          1 2016-05-05 18:02:50  ...   455.241204  1756.557702\n",
              "id0838705          1 2016-02-26 19:50:03  ...   215.226573   685.071318\n",
              "id2644780          1 2016-05-03 16:24:07  ...   574.875442   633.471562\n",
              "id1216866          1 2016-03-26 22:01:54  ...   191.402792    69.446689\n",
              "id3795134          1 2016-03-21 20:54:00  ...   135.275586    28.047694\n",
              "\n",
              "[19 rows x 19 columns]"
            ]
          },
          "metadata": {},
          "execution_count": 192
        }
      ]
    },
    {
      "cell_type": "code",
      "metadata": {
        "colab": {
          "base_uri": "https://localhost:8080/"
        },
        "id": "0_Q7Jo0AFxDH",
        "outputId": "5063ccc7-f38a-4332-e11a-37ccac21cf7a"
      },
      "source": [
        "df['distance'].describe()"
      ],
      "execution_count": 182,
      "outputs": [
        {
          "output_type": "execute_result",
          "data": {
            "text/plain": [
              "count    1.458575e+06\n",
              "mean     3.440939e+00\n",
              "std      4.296509e+00\n",
              "min      0.000000e+00\n",
              "25%      1.231912e+00\n",
              "50%      2.093784e+00\n",
              "75%      3.875402e+00\n",
              "max      1.240909e+03\n",
              "Name: distance, dtype: float64"
            ]
          },
          "metadata": {},
          "execution_count": 182
        }
      ]
    },
    {
      "cell_type": "markdown",
      "metadata": {
        "id": "x_IzK8q0z3na"
      },
      "source": [
        "# Bivariate Analysis\n",
        "\n",
        "Dependent variable with other"
      ]
    },
    {
      "cell_type": "code",
      "metadata": {
        "id": "TGfV22gV6l3-"
      },
      "source": [
        ""
      ],
      "execution_count": null,
      "outputs": []
    },
    {
      "cell_type": "markdown",
      "metadata": {
        "id": "PI8_OffpLIJS"
      },
      "source": [
        ""
      ]
    }
  ]
}